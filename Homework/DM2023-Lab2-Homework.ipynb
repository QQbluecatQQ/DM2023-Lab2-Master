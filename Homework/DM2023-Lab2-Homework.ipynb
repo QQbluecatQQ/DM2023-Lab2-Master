{
 "cells": [
  {
   "cell_type": "markdown",
   "metadata": {},
   "source": [
    "### Student Information\n",
    "Name: 俞政佑\n",
    "\n",
    "Student ID: 109080076\n",
    "\n",
    "GitHub ID: QQbluecatQQ\n",
    "\n",
    "Kaggle name: chengyu\n",
    "\n",
    "Kaggle private scoreboard snapshot:\n",
    "\n",
    "[Snapshot](img/pic0.png)\n",
    "\n",
    "![snapshot](img/pic0.png)"
   ]
  },
  {
   "cell_type": "markdown",
   "metadata": {},
   "source": [
    "---"
   ]
  },
  {
   "cell_type": "markdown",
   "metadata": {},
   "source": [
    "### Instructions"
   ]
  },
  {
   "cell_type": "markdown",
   "metadata": {},
   "source": [
    "1. First: __This part is worth 30% of your grade.__ Do the **take home** exercises in the DM2023-Lab2-master. You may need to copy some cells from the Lab notebook to this notebook. \n",
    "\n",
    "\n",
    "2. Second: __This part is worth 30% of your grade.__ Participate in the in-class [Kaggle Competition](https://www.kaggle.com/t/09b1d0f3f8584d06848252277cb535f2) regarding Emotion Recognition on Twitter by this link https://www.kaggle.com/t/09b1d0f3f8584d06848252277cb535f2. The scoring will be given according to your place in the Private Leaderboard ranking: \n",
    "    - **Bottom 40%**: Get 20% of the 30% available for this section.\n",
    "\n",
    "    - **Top 41% - 100%**: Get (60-x)/6 + 20 points, where x is your ranking in the leaderboard (ie. If you rank 3rd your score will be (60-3)/6 + 20 = 29.5% out of 30%)   \n",
    "    Submit your last submission __BEFORE the deadline (Dec. 27th 11:59 pm, Wednesday)_. Make sure to take a screenshot of your position at the end of the competition and store it as '''pic0.png''' under the **img** folder of this repository and rerun the cell **Student Information**.\n",
    "    \n",
    "\n",
    "3. Third: __This part is worth 30% of your grade.__ A report of your work developping the model for the competition (You can use code and comment it). This report should include what your preprocessing steps, the feature engineering steps and an explanation of your model. You can also mention different things you tried and insights you gained. \n",
    "\n",
    "\n",
    "4. Fourth: __This part is worth 10% of your grade.__ It's hard for us to follow if your code is messy :'(, so please **tidy up your notebook** and **add minimal comments where needed**.\n",
    "\n",
    "\n",
    "Upload your files to your repository then submit the link to it on the corresponding e-learn assignment.\n",
    "\n",
    "Make sure to commit and save your changes to your repository __BEFORE the deadline (Dec. 31th 11:59 pm, Sunday)__. "
   ]
  },
  {
   "cell_type": "markdown",
   "metadata": {},
   "source": [
    "### HW2-1 Take Home Exercises"
   ]
  },
  {
   "cell_type": "code",
   "execution_count": 6,
   "metadata": {},
   "outputs": [
    {
     "name": "stdout",
     "output_type": "stream",
     "text": [
      "Shape of Training df:  (3613, 4)\n",
      "Shape of Testing df:  (347, 4)\n",
      "         id                                               text emotion  \\\n",
      "839   10839  Grateful for all the hungry people in my life!...   anger   \n",
      "2630  30626        only time I am ever cheering for you Johnny     joy   \n",
      "32    10032  I blame the whole season on Natalie! The seaso...   anger   \n",
      "2398  30394  @AimiSyafiqahR go check up with your bf. He'll...     joy   \n",
      "411   10411  @JasonMillerinDC @realDonaldTrump Prudence sug...   anger   \n",
      "\n",
      "      intensity  \n",
      "839       0.167  \n",
      "2630      0.340  \n",
      "32        0.792  \n",
      "2398      0.500  \n",
      "411       0.500  \n",
      "        id                                               text  emotion  \\\n",
      "322  40835  @Eeevah14 don't I know it, try not to fret my ...  sadness   \n",
      "114  21177  Okay. Brace yourself. I will attempt my first ...     fear   \n",
      "325  40838  @GolfStrat out of Rory starts. What would your...  sadness   \n",
      "267  30896  It feels good to get outside for a minute and ...      joy   \n",
      "307  40820  MC: what are you listen to these days?\\nBogum:...  sadness   \n",
      "\n",
      "     intensity  \n",
      "322      0.333  \n",
      "114      0.792  \n",
      "325      0.343  \n",
      "267      0.708  \n",
      "307      0.583  \n"
     ]
    }
   ],
   "source": [
    "# load data and 確認 data\n",
    "import pandas as pd\n",
    "\n",
    "# load data\n",
    "train_df = pd.read_pickle(\"../train_df.pkl\")\n",
    "test_df = pd.read_pickle(\"../test_df.pkl\")\n",
    "\n",
    "print(\"Shape of Training df: \", train_df.shape)\n",
    "print(\"Shape of Testing df: \", test_df.shape)\n",
    "\n",
    "print(train_df.head())\n",
    "print(test_df.head())\n",
    "\n"
   ]
  },
  {
   "cell_type": "markdown",
   "metadata": {},
   "source": [
    "#### Exercise 1\n",
    "\n",
    "Plot word frequency for Top 30 words in both train and test dataset. (Hint: refer to DM lab 1)\n"
   ]
  },
  {
   "cell_type": "code",
   "execution_count": 7,
   "metadata": {},
   "outputs": [
    {
     "name": "stdout",
     "output_type": "stream",
     "text": [
      "train_top_30_word:  ['the' 'to' 'and' 'you' 'of' 'is' 'it' 'in' 'that' 'my' 'for' 'on' 'be'\n",
      " 'me' 'this' 'so' 'have' 'not' 'just' 'but' 'with' 'at' 'can' 'like' 'all'\n",
      " 'are' 'your' 'was' 'when' 'if']\n",
      "train_top_30_frequency:  [1736 1289  955  796  793  787  717  626  537  535  446  390  383  380\n",
      "  350  328  312  303  301  293  288  269  257  243  243  231  229  228\n",
      "  226  216]\n",
      "test_top_30_word:  ['the' 'to' 'and' 'it' 'of' 'you' 'is' 'in' 'for' 'that' 'my' 'on' 'be'\n",
      " 'me' 'was' 'so' 'can' 'at' 'have' 'all' 'just' 'are' 'with' 'but' 'get'\n",
      " 'your' 'up' 'this' 'like' 'not']\n",
      "test_top_30_frequency:  [153 138  92  83  83  82  77  69  57  55  52  46  40  36  34  34  32  30\n",
      "  30  30  29  29  29  26  26  24  24  24  24  24]\n"
     ]
    },
    {
     "data": {
      "application/vnd.plotly.v1+json": {
       "config": {
        "plotlyServerURL": "https://plot.ly"
       },
       "data": [
        {
         "type": "bar",
         "x": [
          "the",
          "to",
          "and",
          "you",
          "of",
          "is",
          "it",
          "in",
          "that",
          "my",
          "for",
          "on",
          "be",
          "me",
          "this",
          "so",
          "have",
          "not",
          "just",
          "but",
          "with",
          "at",
          "can",
          "like",
          "all",
          "are",
          "your",
          "was",
          "when",
          "if"
         ],
         "y": [
          1736,
          1289,
          955,
          796,
          793,
          787,
          717,
          626,
          537,
          535,
          446,
          390,
          383,
          380,
          350,
          328,
          312,
          303,
          301,
          293,
          288,
          269,
          257,
          243,
          243,
          231,
          229,
          228,
          226,
          216
         ]
        }
       ],
       "layout": {
        "template": {
         "data": {
          "bar": [
           {
            "error_x": {
             "color": "#2a3f5f"
            },
            "error_y": {
             "color": "#2a3f5f"
            },
            "marker": {
             "line": {
              "color": "#E5ECF6",
              "width": 0.5
             },
             "pattern": {
              "fillmode": "overlay",
              "size": 10,
              "solidity": 0.2
             }
            },
            "type": "bar"
           }
          ],
          "barpolar": [
           {
            "marker": {
             "line": {
              "color": "#E5ECF6",
              "width": 0.5
             },
             "pattern": {
              "fillmode": "overlay",
              "size": 10,
              "solidity": 0.2
             }
            },
            "type": "barpolar"
           }
          ],
          "carpet": [
           {
            "aaxis": {
             "endlinecolor": "#2a3f5f",
             "gridcolor": "white",
             "linecolor": "white",
             "minorgridcolor": "white",
             "startlinecolor": "#2a3f5f"
            },
            "baxis": {
             "endlinecolor": "#2a3f5f",
             "gridcolor": "white",
             "linecolor": "white",
             "minorgridcolor": "white",
             "startlinecolor": "#2a3f5f"
            },
            "type": "carpet"
           }
          ],
          "choropleth": [
           {
            "colorbar": {
             "outlinewidth": 0,
             "ticks": ""
            },
            "type": "choropleth"
           }
          ],
          "contour": [
           {
            "colorbar": {
             "outlinewidth": 0,
             "ticks": ""
            },
            "colorscale": [
             [
              0,
              "#0d0887"
             ],
             [
              0.1111111111111111,
              "#46039f"
             ],
             [
              0.2222222222222222,
              "#7201a8"
             ],
             [
              0.3333333333333333,
              "#9c179e"
             ],
             [
              0.4444444444444444,
              "#bd3786"
             ],
             [
              0.5555555555555556,
              "#d8576b"
             ],
             [
              0.6666666666666666,
              "#ed7953"
             ],
             [
              0.7777777777777778,
              "#fb9f3a"
             ],
             [
              0.8888888888888888,
              "#fdca26"
             ],
             [
              1,
              "#f0f921"
             ]
            ],
            "type": "contour"
           }
          ],
          "contourcarpet": [
           {
            "colorbar": {
             "outlinewidth": 0,
             "ticks": ""
            },
            "type": "contourcarpet"
           }
          ],
          "heatmap": [
           {
            "colorbar": {
             "outlinewidth": 0,
             "ticks": ""
            },
            "colorscale": [
             [
              0,
              "#0d0887"
             ],
             [
              0.1111111111111111,
              "#46039f"
             ],
             [
              0.2222222222222222,
              "#7201a8"
             ],
             [
              0.3333333333333333,
              "#9c179e"
             ],
             [
              0.4444444444444444,
              "#bd3786"
             ],
             [
              0.5555555555555556,
              "#d8576b"
             ],
             [
              0.6666666666666666,
              "#ed7953"
             ],
             [
              0.7777777777777778,
              "#fb9f3a"
             ],
             [
              0.8888888888888888,
              "#fdca26"
             ],
             [
              1,
              "#f0f921"
             ]
            ],
            "type": "heatmap"
           }
          ],
          "heatmapgl": [
           {
            "colorbar": {
             "outlinewidth": 0,
             "ticks": ""
            },
            "colorscale": [
             [
              0,
              "#0d0887"
             ],
             [
              0.1111111111111111,
              "#46039f"
             ],
             [
              0.2222222222222222,
              "#7201a8"
             ],
             [
              0.3333333333333333,
              "#9c179e"
             ],
             [
              0.4444444444444444,
              "#bd3786"
             ],
             [
              0.5555555555555556,
              "#d8576b"
             ],
             [
              0.6666666666666666,
              "#ed7953"
             ],
             [
              0.7777777777777778,
              "#fb9f3a"
             ],
             [
              0.8888888888888888,
              "#fdca26"
             ],
             [
              1,
              "#f0f921"
             ]
            ],
            "type": "heatmapgl"
           }
          ],
          "histogram": [
           {
            "marker": {
             "pattern": {
              "fillmode": "overlay",
              "size": 10,
              "solidity": 0.2
             }
            },
            "type": "histogram"
           }
          ],
          "histogram2d": [
           {
            "colorbar": {
             "outlinewidth": 0,
             "ticks": ""
            },
            "colorscale": [
             [
              0,
              "#0d0887"
             ],
             [
              0.1111111111111111,
              "#46039f"
             ],
             [
              0.2222222222222222,
              "#7201a8"
             ],
             [
              0.3333333333333333,
              "#9c179e"
             ],
             [
              0.4444444444444444,
              "#bd3786"
             ],
             [
              0.5555555555555556,
              "#d8576b"
             ],
             [
              0.6666666666666666,
              "#ed7953"
             ],
             [
              0.7777777777777778,
              "#fb9f3a"
             ],
             [
              0.8888888888888888,
              "#fdca26"
             ],
             [
              1,
              "#f0f921"
             ]
            ],
            "type": "histogram2d"
           }
          ],
          "histogram2dcontour": [
           {
            "colorbar": {
             "outlinewidth": 0,
             "ticks": ""
            },
            "colorscale": [
             [
              0,
              "#0d0887"
             ],
             [
              0.1111111111111111,
              "#46039f"
             ],
             [
              0.2222222222222222,
              "#7201a8"
             ],
             [
              0.3333333333333333,
              "#9c179e"
             ],
             [
              0.4444444444444444,
              "#bd3786"
             ],
             [
              0.5555555555555556,
              "#d8576b"
             ],
             [
              0.6666666666666666,
              "#ed7953"
             ],
             [
              0.7777777777777778,
              "#fb9f3a"
             ],
             [
              0.8888888888888888,
              "#fdca26"
             ],
             [
              1,
              "#f0f921"
             ]
            ],
            "type": "histogram2dcontour"
           }
          ],
          "mesh3d": [
           {
            "colorbar": {
             "outlinewidth": 0,
             "ticks": ""
            },
            "type": "mesh3d"
           }
          ],
          "parcoords": [
           {
            "line": {
             "colorbar": {
              "outlinewidth": 0,
              "ticks": ""
             }
            },
            "type": "parcoords"
           }
          ],
          "pie": [
           {
            "automargin": true,
            "type": "pie"
           }
          ],
          "scatter": [
           {
            "fillpattern": {
             "fillmode": "overlay",
             "size": 10,
             "solidity": 0.2
            },
            "type": "scatter"
           }
          ],
          "scatter3d": [
           {
            "line": {
             "colorbar": {
              "outlinewidth": 0,
              "ticks": ""
             }
            },
            "marker": {
             "colorbar": {
              "outlinewidth": 0,
              "ticks": ""
             }
            },
            "type": "scatter3d"
           }
          ],
          "scattercarpet": [
           {
            "marker": {
             "colorbar": {
              "outlinewidth": 0,
              "ticks": ""
             }
            },
            "type": "scattercarpet"
           }
          ],
          "scattergeo": [
           {
            "marker": {
             "colorbar": {
              "outlinewidth": 0,
              "ticks": ""
             }
            },
            "type": "scattergeo"
           }
          ],
          "scattergl": [
           {
            "marker": {
             "colorbar": {
              "outlinewidth": 0,
              "ticks": ""
             }
            },
            "type": "scattergl"
           }
          ],
          "scattermapbox": [
           {
            "marker": {
             "colorbar": {
              "outlinewidth": 0,
              "ticks": ""
             }
            },
            "type": "scattermapbox"
           }
          ],
          "scatterpolar": [
           {
            "marker": {
             "colorbar": {
              "outlinewidth": 0,
              "ticks": ""
             }
            },
            "type": "scatterpolar"
           }
          ],
          "scatterpolargl": [
           {
            "marker": {
             "colorbar": {
              "outlinewidth": 0,
              "ticks": ""
             }
            },
            "type": "scatterpolargl"
           }
          ],
          "scatterternary": [
           {
            "marker": {
             "colorbar": {
              "outlinewidth": 0,
              "ticks": ""
             }
            },
            "type": "scatterternary"
           }
          ],
          "surface": [
           {
            "colorbar": {
             "outlinewidth": 0,
             "ticks": ""
            },
            "colorscale": [
             [
              0,
              "#0d0887"
             ],
             [
              0.1111111111111111,
              "#46039f"
             ],
             [
              0.2222222222222222,
              "#7201a8"
             ],
             [
              0.3333333333333333,
              "#9c179e"
             ],
             [
              0.4444444444444444,
              "#bd3786"
             ],
             [
              0.5555555555555556,
              "#d8576b"
             ],
             [
              0.6666666666666666,
              "#ed7953"
             ],
             [
              0.7777777777777778,
              "#fb9f3a"
             ],
             [
              0.8888888888888888,
              "#fdca26"
             ],
             [
              1,
              "#f0f921"
             ]
            ],
            "type": "surface"
           }
          ],
          "table": [
           {
            "cells": {
             "fill": {
              "color": "#EBF0F8"
             },
             "line": {
              "color": "white"
             }
            },
            "header": {
             "fill": {
              "color": "#C8D4E3"
             },
             "line": {
              "color": "white"
             }
            },
            "type": "table"
           }
          ]
         },
         "layout": {
          "annotationdefaults": {
           "arrowcolor": "#2a3f5f",
           "arrowhead": 0,
           "arrowwidth": 1
          },
          "autotypenumbers": "strict",
          "coloraxis": {
           "colorbar": {
            "outlinewidth": 0,
            "ticks": ""
           }
          },
          "colorscale": {
           "diverging": [
            [
             0,
             "#8e0152"
            ],
            [
             0.1,
             "#c51b7d"
            ],
            [
             0.2,
             "#de77ae"
            ],
            [
             0.3,
             "#f1b6da"
            ],
            [
             0.4,
             "#fde0ef"
            ],
            [
             0.5,
             "#f7f7f7"
            ],
            [
             0.6,
             "#e6f5d0"
            ],
            [
             0.7,
             "#b8e186"
            ],
            [
             0.8,
             "#7fbc41"
            ],
            [
             0.9,
             "#4d9221"
            ],
            [
             1,
             "#276419"
            ]
           ],
           "sequential": [
            [
             0,
             "#0d0887"
            ],
            [
             0.1111111111111111,
             "#46039f"
            ],
            [
             0.2222222222222222,
             "#7201a8"
            ],
            [
             0.3333333333333333,
             "#9c179e"
            ],
            [
             0.4444444444444444,
             "#bd3786"
            ],
            [
             0.5555555555555556,
             "#d8576b"
            ],
            [
             0.6666666666666666,
             "#ed7953"
            ],
            [
             0.7777777777777778,
             "#fb9f3a"
            ],
            [
             0.8888888888888888,
             "#fdca26"
            ],
            [
             1,
             "#f0f921"
            ]
           ],
           "sequentialminus": [
            [
             0,
             "#0d0887"
            ],
            [
             0.1111111111111111,
             "#46039f"
            ],
            [
             0.2222222222222222,
             "#7201a8"
            ],
            [
             0.3333333333333333,
             "#9c179e"
            ],
            [
             0.4444444444444444,
             "#bd3786"
            ],
            [
             0.5555555555555556,
             "#d8576b"
            ],
            [
             0.6666666666666666,
             "#ed7953"
            ],
            [
             0.7777777777777778,
             "#fb9f3a"
            ],
            [
             0.8888888888888888,
             "#fdca26"
            ],
            [
             1,
             "#f0f921"
            ]
           ]
          },
          "colorway": [
           "#636efa",
           "#EF553B",
           "#00cc96",
           "#ab63fa",
           "#FFA15A",
           "#19d3f3",
           "#FF6692",
           "#B6E880",
           "#FF97FF",
           "#FECB52"
          ],
          "font": {
           "color": "#2a3f5f"
          },
          "geo": {
           "bgcolor": "white",
           "lakecolor": "white",
           "landcolor": "#E5ECF6",
           "showlakes": true,
           "showland": true,
           "subunitcolor": "white"
          },
          "hoverlabel": {
           "align": "left"
          },
          "hovermode": "closest",
          "mapbox": {
           "style": "light"
          },
          "paper_bgcolor": "white",
          "plot_bgcolor": "#E5ECF6",
          "polar": {
           "angularaxis": {
            "gridcolor": "white",
            "linecolor": "white",
            "ticks": ""
           },
           "bgcolor": "#E5ECF6",
           "radialaxis": {
            "gridcolor": "white",
            "linecolor": "white",
            "ticks": ""
           }
          },
          "scene": {
           "xaxis": {
            "backgroundcolor": "#E5ECF6",
            "gridcolor": "white",
            "gridwidth": 2,
            "linecolor": "white",
            "showbackground": true,
            "ticks": "",
            "zerolinecolor": "white"
           },
           "yaxis": {
            "backgroundcolor": "#E5ECF6",
            "gridcolor": "white",
            "gridwidth": 2,
            "linecolor": "white",
            "showbackground": true,
            "ticks": "",
            "zerolinecolor": "white"
           },
           "zaxis": {
            "backgroundcolor": "#E5ECF6",
            "gridcolor": "white",
            "gridwidth": 2,
            "linecolor": "white",
            "showbackground": true,
            "ticks": "",
            "zerolinecolor": "white"
           }
          },
          "shapedefaults": {
           "line": {
            "color": "#2a3f5f"
           }
          },
          "ternary": {
           "aaxis": {
            "gridcolor": "white",
            "linecolor": "white",
            "ticks": ""
           },
           "baxis": {
            "gridcolor": "white",
            "linecolor": "white",
            "ticks": ""
           },
           "bgcolor": "#E5ECF6",
           "caxis": {
            "gridcolor": "white",
            "linecolor": "white",
            "ticks": ""
           }
          },
          "title": {
           "x": 0.05
          },
          "xaxis": {
           "automargin": true,
           "gridcolor": "white",
           "linecolor": "white",
           "ticks": "",
           "title": {
            "standoff": 15
           },
           "zerolinecolor": "white",
           "zerolinewidth": 2
          },
          "yaxis": {
           "automargin": true,
           "gridcolor": "white",
           "linecolor": "white",
           "ticks": "",
           "title": {
            "standoff": 15
           },
           "zerolinecolor": "white",
           "zerolinewidth": 2
          }
         }
        },
        "title": {
         "text": "Top 30 words in training data"
        },
        "xaxis": {
         "tickangle": -45,
         "tickfont": {
          "size": 13
         },
         "title": {
          "text": "Words"
         }
        },
        "yaxis": {
         "title": {
          "text": "Frequencies"
         }
        }
       }
      }
     },
     "metadata": {},
     "output_type": "display_data"
    },
    {
     "data": {
      "application/vnd.plotly.v1+json": {
       "config": {
        "plotlyServerURL": "https://plot.ly"
       },
       "data": [
        {
         "type": "bar",
         "x": [
          "the",
          "to",
          "and",
          "it",
          "of",
          "you",
          "is",
          "in",
          "for",
          "that",
          "my",
          "on",
          "be",
          "me",
          "was",
          "so",
          "can",
          "at",
          "have",
          "all",
          "just",
          "are",
          "with",
          "but",
          "get",
          "your",
          "up",
          "this",
          "like",
          "not"
         ],
         "y": [
          153,
          138,
          92,
          83,
          83,
          82,
          77,
          69,
          57,
          55,
          52,
          46,
          40,
          36,
          34,
          34,
          32,
          30,
          30,
          30,
          29,
          29,
          29,
          26,
          26,
          24,
          24,
          24,
          24,
          24
         ]
        }
       ],
       "layout": {
        "template": {
         "data": {
          "bar": [
           {
            "error_x": {
             "color": "#2a3f5f"
            },
            "error_y": {
             "color": "#2a3f5f"
            },
            "marker": {
             "line": {
              "color": "#E5ECF6",
              "width": 0.5
             },
             "pattern": {
              "fillmode": "overlay",
              "size": 10,
              "solidity": 0.2
             }
            },
            "type": "bar"
           }
          ],
          "barpolar": [
           {
            "marker": {
             "line": {
              "color": "#E5ECF6",
              "width": 0.5
             },
             "pattern": {
              "fillmode": "overlay",
              "size": 10,
              "solidity": 0.2
             }
            },
            "type": "barpolar"
           }
          ],
          "carpet": [
           {
            "aaxis": {
             "endlinecolor": "#2a3f5f",
             "gridcolor": "white",
             "linecolor": "white",
             "minorgridcolor": "white",
             "startlinecolor": "#2a3f5f"
            },
            "baxis": {
             "endlinecolor": "#2a3f5f",
             "gridcolor": "white",
             "linecolor": "white",
             "minorgridcolor": "white",
             "startlinecolor": "#2a3f5f"
            },
            "type": "carpet"
           }
          ],
          "choropleth": [
           {
            "colorbar": {
             "outlinewidth": 0,
             "ticks": ""
            },
            "type": "choropleth"
           }
          ],
          "contour": [
           {
            "colorbar": {
             "outlinewidth": 0,
             "ticks": ""
            },
            "colorscale": [
             [
              0,
              "#0d0887"
             ],
             [
              0.1111111111111111,
              "#46039f"
             ],
             [
              0.2222222222222222,
              "#7201a8"
             ],
             [
              0.3333333333333333,
              "#9c179e"
             ],
             [
              0.4444444444444444,
              "#bd3786"
             ],
             [
              0.5555555555555556,
              "#d8576b"
             ],
             [
              0.6666666666666666,
              "#ed7953"
             ],
             [
              0.7777777777777778,
              "#fb9f3a"
             ],
             [
              0.8888888888888888,
              "#fdca26"
             ],
             [
              1,
              "#f0f921"
             ]
            ],
            "type": "contour"
           }
          ],
          "contourcarpet": [
           {
            "colorbar": {
             "outlinewidth": 0,
             "ticks": ""
            },
            "type": "contourcarpet"
           }
          ],
          "heatmap": [
           {
            "colorbar": {
             "outlinewidth": 0,
             "ticks": ""
            },
            "colorscale": [
             [
              0,
              "#0d0887"
             ],
             [
              0.1111111111111111,
              "#46039f"
             ],
             [
              0.2222222222222222,
              "#7201a8"
             ],
             [
              0.3333333333333333,
              "#9c179e"
             ],
             [
              0.4444444444444444,
              "#bd3786"
             ],
             [
              0.5555555555555556,
              "#d8576b"
             ],
             [
              0.6666666666666666,
              "#ed7953"
             ],
             [
              0.7777777777777778,
              "#fb9f3a"
             ],
             [
              0.8888888888888888,
              "#fdca26"
             ],
             [
              1,
              "#f0f921"
             ]
            ],
            "type": "heatmap"
           }
          ],
          "heatmapgl": [
           {
            "colorbar": {
             "outlinewidth": 0,
             "ticks": ""
            },
            "colorscale": [
             [
              0,
              "#0d0887"
             ],
             [
              0.1111111111111111,
              "#46039f"
             ],
             [
              0.2222222222222222,
              "#7201a8"
             ],
             [
              0.3333333333333333,
              "#9c179e"
             ],
             [
              0.4444444444444444,
              "#bd3786"
             ],
             [
              0.5555555555555556,
              "#d8576b"
             ],
             [
              0.6666666666666666,
              "#ed7953"
             ],
             [
              0.7777777777777778,
              "#fb9f3a"
             ],
             [
              0.8888888888888888,
              "#fdca26"
             ],
             [
              1,
              "#f0f921"
             ]
            ],
            "type": "heatmapgl"
           }
          ],
          "histogram": [
           {
            "marker": {
             "pattern": {
              "fillmode": "overlay",
              "size": 10,
              "solidity": 0.2
             }
            },
            "type": "histogram"
           }
          ],
          "histogram2d": [
           {
            "colorbar": {
             "outlinewidth": 0,
             "ticks": ""
            },
            "colorscale": [
             [
              0,
              "#0d0887"
             ],
             [
              0.1111111111111111,
              "#46039f"
             ],
             [
              0.2222222222222222,
              "#7201a8"
             ],
             [
              0.3333333333333333,
              "#9c179e"
             ],
             [
              0.4444444444444444,
              "#bd3786"
             ],
             [
              0.5555555555555556,
              "#d8576b"
             ],
             [
              0.6666666666666666,
              "#ed7953"
             ],
             [
              0.7777777777777778,
              "#fb9f3a"
             ],
             [
              0.8888888888888888,
              "#fdca26"
             ],
             [
              1,
              "#f0f921"
             ]
            ],
            "type": "histogram2d"
           }
          ],
          "histogram2dcontour": [
           {
            "colorbar": {
             "outlinewidth": 0,
             "ticks": ""
            },
            "colorscale": [
             [
              0,
              "#0d0887"
             ],
             [
              0.1111111111111111,
              "#46039f"
             ],
             [
              0.2222222222222222,
              "#7201a8"
             ],
             [
              0.3333333333333333,
              "#9c179e"
             ],
             [
              0.4444444444444444,
              "#bd3786"
             ],
             [
              0.5555555555555556,
              "#d8576b"
             ],
             [
              0.6666666666666666,
              "#ed7953"
             ],
             [
              0.7777777777777778,
              "#fb9f3a"
             ],
             [
              0.8888888888888888,
              "#fdca26"
             ],
             [
              1,
              "#f0f921"
             ]
            ],
            "type": "histogram2dcontour"
           }
          ],
          "mesh3d": [
           {
            "colorbar": {
             "outlinewidth": 0,
             "ticks": ""
            },
            "type": "mesh3d"
           }
          ],
          "parcoords": [
           {
            "line": {
             "colorbar": {
              "outlinewidth": 0,
              "ticks": ""
             }
            },
            "type": "parcoords"
           }
          ],
          "pie": [
           {
            "automargin": true,
            "type": "pie"
           }
          ],
          "scatter": [
           {
            "fillpattern": {
             "fillmode": "overlay",
             "size": 10,
             "solidity": 0.2
            },
            "type": "scatter"
           }
          ],
          "scatter3d": [
           {
            "line": {
             "colorbar": {
              "outlinewidth": 0,
              "ticks": ""
             }
            },
            "marker": {
             "colorbar": {
              "outlinewidth": 0,
              "ticks": ""
             }
            },
            "type": "scatter3d"
           }
          ],
          "scattercarpet": [
           {
            "marker": {
             "colorbar": {
              "outlinewidth": 0,
              "ticks": ""
             }
            },
            "type": "scattercarpet"
           }
          ],
          "scattergeo": [
           {
            "marker": {
             "colorbar": {
              "outlinewidth": 0,
              "ticks": ""
             }
            },
            "type": "scattergeo"
           }
          ],
          "scattergl": [
           {
            "marker": {
             "colorbar": {
              "outlinewidth": 0,
              "ticks": ""
             }
            },
            "type": "scattergl"
           }
          ],
          "scattermapbox": [
           {
            "marker": {
             "colorbar": {
              "outlinewidth": 0,
              "ticks": ""
             }
            },
            "type": "scattermapbox"
           }
          ],
          "scatterpolar": [
           {
            "marker": {
             "colorbar": {
              "outlinewidth": 0,
              "ticks": ""
             }
            },
            "type": "scatterpolar"
           }
          ],
          "scatterpolargl": [
           {
            "marker": {
             "colorbar": {
              "outlinewidth": 0,
              "ticks": ""
             }
            },
            "type": "scatterpolargl"
           }
          ],
          "scatterternary": [
           {
            "marker": {
             "colorbar": {
              "outlinewidth": 0,
              "ticks": ""
             }
            },
            "type": "scatterternary"
           }
          ],
          "surface": [
           {
            "colorbar": {
             "outlinewidth": 0,
             "ticks": ""
            },
            "colorscale": [
             [
              0,
              "#0d0887"
             ],
             [
              0.1111111111111111,
              "#46039f"
             ],
             [
              0.2222222222222222,
              "#7201a8"
             ],
             [
              0.3333333333333333,
              "#9c179e"
             ],
             [
              0.4444444444444444,
              "#bd3786"
             ],
             [
              0.5555555555555556,
              "#d8576b"
             ],
             [
              0.6666666666666666,
              "#ed7953"
             ],
             [
              0.7777777777777778,
              "#fb9f3a"
             ],
             [
              0.8888888888888888,
              "#fdca26"
             ],
             [
              1,
              "#f0f921"
             ]
            ],
            "type": "surface"
           }
          ],
          "table": [
           {
            "cells": {
             "fill": {
              "color": "#EBF0F8"
             },
             "line": {
              "color": "white"
             }
            },
            "header": {
             "fill": {
              "color": "#C8D4E3"
             },
             "line": {
              "color": "white"
             }
            },
            "type": "table"
           }
          ]
         },
         "layout": {
          "annotationdefaults": {
           "arrowcolor": "#2a3f5f",
           "arrowhead": 0,
           "arrowwidth": 1
          },
          "autotypenumbers": "strict",
          "coloraxis": {
           "colorbar": {
            "outlinewidth": 0,
            "ticks": ""
           }
          },
          "colorscale": {
           "diverging": [
            [
             0,
             "#8e0152"
            ],
            [
             0.1,
             "#c51b7d"
            ],
            [
             0.2,
             "#de77ae"
            ],
            [
             0.3,
             "#f1b6da"
            ],
            [
             0.4,
             "#fde0ef"
            ],
            [
             0.5,
             "#f7f7f7"
            ],
            [
             0.6,
             "#e6f5d0"
            ],
            [
             0.7,
             "#b8e186"
            ],
            [
             0.8,
             "#7fbc41"
            ],
            [
             0.9,
             "#4d9221"
            ],
            [
             1,
             "#276419"
            ]
           ],
           "sequential": [
            [
             0,
             "#0d0887"
            ],
            [
             0.1111111111111111,
             "#46039f"
            ],
            [
             0.2222222222222222,
             "#7201a8"
            ],
            [
             0.3333333333333333,
             "#9c179e"
            ],
            [
             0.4444444444444444,
             "#bd3786"
            ],
            [
             0.5555555555555556,
             "#d8576b"
            ],
            [
             0.6666666666666666,
             "#ed7953"
            ],
            [
             0.7777777777777778,
             "#fb9f3a"
            ],
            [
             0.8888888888888888,
             "#fdca26"
            ],
            [
             1,
             "#f0f921"
            ]
           ],
           "sequentialminus": [
            [
             0,
             "#0d0887"
            ],
            [
             0.1111111111111111,
             "#46039f"
            ],
            [
             0.2222222222222222,
             "#7201a8"
            ],
            [
             0.3333333333333333,
             "#9c179e"
            ],
            [
             0.4444444444444444,
             "#bd3786"
            ],
            [
             0.5555555555555556,
             "#d8576b"
            ],
            [
             0.6666666666666666,
             "#ed7953"
            ],
            [
             0.7777777777777778,
             "#fb9f3a"
            ],
            [
             0.8888888888888888,
             "#fdca26"
            ],
            [
             1,
             "#f0f921"
            ]
           ]
          },
          "colorway": [
           "#636efa",
           "#EF553B",
           "#00cc96",
           "#ab63fa",
           "#FFA15A",
           "#19d3f3",
           "#FF6692",
           "#B6E880",
           "#FF97FF",
           "#FECB52"
          ],
          "font": {
           "color": "#2a3f5f"
          },
          "geo": {
           "bgcolor": "white",
           "lakecolor": "white",
           "landcolor": "#E5ECF6",
           "showlakes": true,
           "showland": true,
           "subunitcolor": "white"
          },
          "hoverlabel": {
           "align": "left"
          },
          "hovermode": "closest",
          "mapbox": {
           "style": "light"
          },
          "paper_bgcolor": "white",
          "plot_bgcolor": "#E5ECF6",
          "polar": {
           "angularaxis": {
            "gridcolor": "white",
            "linecolor": "white",
            "ticks": ""
           },
           "bgcolor": "#E5ECF6",
           "radialaxis": {
            "gridcolor": "white",
            "linecolor": "white",
            "ticks": ""
           }
          },
          "scene": {
           "xaxis": {
            "backgroundcolor": "#E5ECF6",
            "gridcolor": "white",
            "gridwidth": 2,
            "linecolor": "white",
            "showbackground": true,
            "ticks": "",
            "zerolinecolor": "white"
           },
           "yaxis": {
            "backgroundcolor": "#E5ECF6",
            "gridcolor": "white",
            "gridwidth": 2,
            "linecolor": "white",
            "showbackground": true,
            "ticks": "",
            "zerolinecolor": "white"
           },
           "zaxis": {
            "backgroundcolor": "#E5ECF6",
            "gridcolor": "white",
            "gridwidth": 2,
            "linecolor": "white",
            "showbackground": true,
            "ticks": "",
            "zerolinecolor": "white"
           }
          },
          "shapedefaults": {
           "line": {
            "color": "#2a3f5f"
           }
          },
          "ternary": {
           "aaxis": {
            "gridcolor": "white",
            "linecolor": "white",
            "ticks": ""
           },
           "baxis": {
            "gridcolor": "white",
            "linecolor": "white",
            "ticks": ""
           },
           "bgcolor": "#E5ECF6",
           "caxis": {
            "gridcolor": "white",
            "linecolor": "white",
            "ticks": ""
           }
          },
          "title": {
           "x": 0.05
          },
          "xaxis": {
           "automargin": true,
           "gridcolor": "white",
           "linecolor": "white",
           "ticks": "",
           "title": {
            "standoff": 15
           },
           "zerolinecolor": "white",
           "zerolinewidth": 2
          },
          "yaxis": {
           "automargin": true,
           "gridcolor": "white",
           "linecolor": "white",
           "ticks": "",
           "title": {
            "standoff": 15
           },
           "zerolinecolor": "white",
           "zerolinewidth": 2
          }
         }
        },
        "title": {
         "text": "Top 30 words in testing data"
        },
        "xaxis": {
         "tickangle": -45,
         "tickfont": {
          "size": 13
         },
         "title": {
          "text": "Words"
         }
        },
        "yaxis": {
         "title": {
          "text": "Frequencies"
         }
        }
       }
      }
     },
     "metadata": {},
     "output_type": "display_data"
    }
   ],
   "source": [
    "# Answer here\n",
    "# find tran_df and test_df 中, 前 30 個常出現的 word\n",
    "\n",
    "from sklearn.feature_extraction.text import CountVectorizer\n",
    "import numpy as np\n",
    "\n",
    "# 先確認一下 data\n",
    "# print(type(train_df['text'][0]))\n",
    "# print((train_df['text'][0]))\n",
    "\n",
    "# 建立 feature matrix\n",
    "train_count = CountVectorizer()\n",
    "test_count = CountVectorizer()\n",
    "train_feature_matrix = train_count.fit_transform(train_df['text'])\n",
    "test_feature_matrix = test_count.fit_transform(test_df['text'])\n",
    "\n",
    "# print(train_feature_matrix[0])\n",
    "\n",
    "# 算 frequency\n",
    "train_frequency = np.asarray(train_feature_matrix.sum(axis=0))[0]\n",
    "test_frequency = np.asarray(test_feature_matrix.sum(axis=0))[0]\n",
    "\n",
    "# 取出前 30 個常出現的 word 的 index\n",
    "train_top_30 = np.argsort(train_frequency)[::-1][:30]\n",
    "test_top_30 = np.argsort(test_frequency)[::-1][:30]\n",
    "\n",
    "# 找出對應的 word\n",
    "train_top_30_word = train_count.get_feature_names_out()[train_top_30]\n",
    "test_top_30_word  = test_count.get_feature_names_out()[test_top_30]\n",
    "\n",
    "# 找出對應的 frequency\n",
    "train_top_30_frequency = train_frequency[train_top_30]\n",
    "test_top_30_frequency = test_frequency[test_top_30]\n",
    "\n",
    "print(\"train_top_30_word: \", train_top_30_word)\n",
    "print(\"train_top_30_frequency: \", train_top_30_frequency)\n",
    "print(\"test_top_30_word: \", test_top_30_word)\n",
    "print(\"test_top_30_frequency: \", test_top_30_frequency)\n",
    "\n",
    "# ploty 作圖\n",
    "import plotly.graph_objects as go\n",
    "fig = go.Figure()\n",
    "fig.add_trace(go.Bar(\n",
    "    x=train_top_30_word,\n",
    "    y=train_top_30_frequency,\n",
    "))\n",
    "fig.update_layout(\n",
    "    xaxis=dict(\n",
    "        tickangle=-45,\n",
    "        tickfont=dict(size=13)),\n",
    "    \n",
    "    title=\"Top 30 words in training data\",\n",
    "    xaxis_title=\"Words\",\n",
    "    yaxis_title=\"Frequencies\"\n",
    ")\n",
    "fig.show()\n",
    "\n",
    "fig = go.Figure()\n",
    "fig.add_trace(go.Bar(\n",
    "    x=test_top_30_word,\n",
    "    y=test_top_30_frequency,\n",
    "))\n",
    "fig.update_layout(\n",
    "    xaxis=dict(\n",
    "        tickangle=-45,\n",
    "        tickfont=dict(size=13)),\n",
    "    \n",
    "    title=\"Top 30 words in testing data\",\n",
    "    xaxis_title=\"Words\",\n",
    "    yaxis_title=\"Frequencies\"\n",
    ")\n",
    "fig.show()"
   ]
  },
  {
   "cell_type": "markdown",
   "metadata": {},
   "source": [
    "### exercise 2\n",
    "Generate an embedding using the TF-IDF vectorizer instead of th BOW one with 1000 features and show the feature names for features [100:110]."
   ]
  },
  {
   "cell_type": "code",
   "execution_count": 8,
   "metadata": {},
   "outputs": [
    {
     "name": "stderr",
     "output_type": "stream",
     "text": [
      "c:\\Users\\user\\AppData\\Local\\Programs\\Python\\Python310\\lib\\site-packages\\sklearn\\feature_extraction\\text.py:524: UserWarning:\n",
      "\n",
      "The parameter 'token_pattern' will not be used since 'tokenizer' is not None'\n",
      "\n"
     ]
    },
    {
     "name": "stdout",
     "output_type": "stream",
     "text": [
      "feature_names_TFid_1000 shape:  (1000,)\n",
      "TFid_1000 feature_names [100:110]:  ['awful' 'b' 'baby' 'back' 'bad' 'ball' 'balls' 'bb18' 'bc' 'bday']\n",
      "😂 in feature_names_TFid_1000:  True\n"
     ]
    }
   ],
   "source": [
    "# Answer here\n",
    "import  nltk\n",
    "from sklearn.feature_extraction.text import TfidfVectorizer\n",
    "TFid_1000 = TfidfVectorizer(max_features=1000, tokenizer=nltk.word_tokenize)\n",
    "TFid_1000.fit(train_df['text'])\n",
    "feature_names_TFid_1000 = TFid_1000.get_feature_names_out()\n",
    "\n",
    "print(\"feature_names_TFid_1000 shape: \", feature_names_TFid_1000.shape)\n",
    "\n",
    "print(\"TFid_1000 feature_names [100:110]: \", feature_names_TFid_1000[100:110])\n",
    "print(\"😂 in feature_names_TFid_1000: \", \"😂\" in feature_names_TFid_1000)\n",
    "\n"
   ]
  },
  {
   "cell_type": "code",
   "execution_count": 15,
   "metadata": {},
   "outputs": [],
   "source": [
    "# confusion matrix 的作圖函數\n",
    "import matplotlib.pyplot as plt\n",
    "import seaborn as sns\n",
    "import numpy as np\n",
    "import itertools\n",
    "def plot_confusion_matrix(cm, classes, title='Confusion matrix',\n",
    "                          cmap=sns.cubehelix_palette(as_cmap=True)):\n",
    "    \"\"\"\n",
    "    This function is modified from: \n",
    "    http://scikit-learn.org/stable/auto_examples/model_selection/plot_confusion_matrix.html\n",
    "    \"\"\"\n",
    "    classes.sort()\n",
    "    tick_marks = np.arange(len(classes))    \n",
    "    \n",
    "    fig, ax = plt.subplots(figsize=(5,5))\n",
    "    im = ax.imshow(cm, interpolation='nearest', cmap=cmap)\n",
    "    ax.figure.colorbar(im, ax=ax)\n",
    "    ax.set(xticks=np.arange(cm.shape[1]),\n",
    "           yticks=np.arange(cm.shape[0]),\n",
    "           xticklabels = classes,\n",
    "           yticklabels = classes,\n",
    "           title = title,\n",
    "           xlabel = 'Predicted label',\n",
    "           ylabel = 'True label')\n",
    "\n",
    "    fmt = 'd'\n",
    "    thresh = cm.max() / 2.\n",
    "    for i, j in itertools.product(range(cm.shape[0]), range(cm.shape[1])):\n",
    "        plt.text(j, i, format(cm[i, j], fmt), horizontalalignment=\"center\", color=\"white\" if cm[i, j] > thresh else \"black\")\n",
    "    ylim_top = len(classes) - 0.5\n",
    "    plt.ylim([ylim_top, -.5])\n",
    "    plt.tight_layout()\n",
    "    plt.show()"
   ]
  },
  {
   "cell_type": "code",
   "execution_count": null,
   "metadata": {},
   "outputs": [],
   "source": [
    "# 準備 train data and test data\n",
    "import nltk\n",
    "from sklearn.tree import DecisionTreeClassifier\n",
    "BOW_500 = CountVectorizer(max_features=500, tokenizer=nltk.word_tokenize) \n",
    "BOW_500.fit(train_df['text'])\n",
    "train_data_BOW_features_500 = BOW_500.transform(train_df['text'])\n",
    "X_train = BOW_500.transform(train_df['text'])\n",
    "y_train = train_df['emotion']\n",
    "X_test = BOW_500.transform(test_df['text'])\n",
    "y_test = test_df['emotion']"
   ]
  },
  {
   "cell_type": "code",
   "execution_count": 16,
   "metadata": {},
   "outputs": [
    {
     "name": "stdout",
     "output_type": "stream",
     "text": [
      "training accuracy: 0.99\n",
      "testing accuracy: 0.68\n",
      "              precision    recall  f1-score   support\n",
      "\n",
      "       anger       0.66      0.68      0.67        84\n",
      "        fear       0.66      0.69      0.67       110\n",
      "         joy       0.72      0.71      0.71        79\n",
      "     sadness       0.70      0.64      0.67        74\n",
      "\n",
      "    accuracy                           0.68       347\n",
      "   macro avg       0.68      0.68      0.68       347\n",
      "weighted avg       0.68      0.68      0.68       347\n",
      "\n"
     ]
    },
    {
     "data": {
      "image/png": "[encoded data removed]",
      "text/plain": [
       "<Figure size 500x500 with 2 Axes>"
      ]
     },
     "metadata": {},
     "output_type": "display_data"
    }
   ],
   "source": [
    "# decision tree model and result\n",
    "DT_model = DecisionTreeClassifier(random_state=1)\n",
    "DT_model = DT_model.fit(X_train, y_train)\n",
    "y_train_pred = DT_model.predict(X_train)\n",
    "y_test_pred = DT_model.predict(X_test)\n",
    "from sklearn.metrics import accuracy_score\n",
    "acc_train = accuracy_score(y_true=y_train, y_pred=y_train_pred)\n",
    "acc_test = accuracy_score(y_true=y_test, y_pred=y_test_pred)\n",
    "print('training accuracy: {}'.format(round(acc_train, 2)))\n",
    "print('testing accuracy: {}'.format(round(acc_test, 2)))\n",
    "from sklearn.metrics import classification_report\n",
    "print(classification_report(y_true=y_test, y_pred=y_test_pred))\n",
    "from sklearn.metrics import confusion_matrix\n",
    "cm = confusion_matrix(y_true=y_test, y_pred=y_test_pred)\n",
    "\n",
    "# plot your confusion matrix\n",
    "my_tags = ['anger', 'fear', 'joy', 'sadness']\n",
    "plot_confusion_matrix(cm, classes=my_tags, title='Confusion matrix')"
   ]
  },
  {
   "cell_type": "markdown",
   "metadata": {},
   "source": [
    "### Exercise 3\n",
    "Can you interpret the results above? What do they mean?"
   ]
  },
  {
   "cell_type": "code",
   "execution_count": null,
   "metadata": {},
   "outputs": [],
   "source": [
    "# answer\n",
    "# 1. accuracy\n",
    "# training accuracy: 0.99\n",
    "# testing accuracy: 0.68\n",
    "# 首先, 先從 train 和 test 的 accuracy 可以看出來, 這個 model 有 overfitting 的問題, 因為 decition tree 的特性, 他會根據 train data 的細節與特例進行分割, 因此容易導致 overtfitting,\n",
    "# 或許可以嘗試調整 tree 的深度, 或是換成 random forest 來解決\n",
    "\n",
    "# 2. classification_report\n",
    "#              precision    recall  f1-score   support\n",
    "\n",
    "#        anger       0.66      0.68      0.67        84\n",
    "#         fear       0.66      0.69      0.67       110\n",
    "#          joy       0.72      0.71      0.71        79\n",
    "#      sadness       0.70      0.64      0.67        74\n",
    "\n",
    "#     accuracy                           0.68       347\n",
    "#    macro avg       0.68      0.68      0.68       347\n",
    "# weighted avg       0.68      0.68      0.68       347\n",
    "\n",
    "# percision: 預測真且真實真 / 預測真 \n",
    "# recall:    預測真且真實真 / 真實真\n",
    "\n",
    "# 從 classification_report 可以看到, \n",
    "# joy 的 percision 和 recall 都比較高. 表示 joy 的預測結果比較準確\n",
    "# sadness 的 percision 高, 但 recall 低. 表示在判定為 sadness 時, 通常正確, 但是未能有效找到所有 sadness 的 data\n",
    "# anger 和 fear 的 percision 和 recall 都低. 表示在判定 anger 和 fear 時, 正確率不高, 常誤判(偽陽), 也未能有效找到所有 anger 和 fear 的 data\n",
    "\n",
    "# 3. confusion matrix\n",
    "# 可以輔助第二點, 橫看的話, 可以看出 recall, 縱看的話, 可以看出 percision\n",
    "# 從 confusion matrix 可以看到, \n",
    "# y = sadness 時, 有許多比資料沒被判定為 sadness (recall 低), 尤其是被判定為 fear 的情況最多 (有 13 筆被判定為 fear, 實際上是 sadness)\n",
    "# 而看向 x = anger 和 fear, y = anger 和 fear 這個 2*2 的正方形時, model 很容易將 anger 和 fear 混淆, (anger 被判定為 fear, fear 被判定為 anger), 或許可以來看一下 data 還看以下這兩種情緒的差異, 進而修改方法\n",
    "# joy 的判定還算準確\n"
   ]
  },
  {
   "cell_type": "markdown",
   "metadata": {},
   "source": [
    "### Exercise 4\n",
    "Build a model using a ```Naive Bayes``` model and train it. What are the testing results? \n"
   ]
  },
  {
   "cell_type": "code",
   "execution_count": 17,
   "metadata": {},
   "outputs": [
    {
     "name": "stdout",
     "output_type": "stream",
     "text": [
      "training accuracy: 0.79\n",
      "testing accuracy: 0.7\n",
      "              precision    recall  f1-score   support\n",
      "\n",
      "       anger       0.63      0.65      0.64        84\n",
      "        fear       0.73      0.77      0.75       110\n",
      "         joy       0.78      0.71      0.74        79\n",
      "     sadness       0.64      0.62      0.63        74\n",
      "\n",
      "    accuracy                           0.70       347\n",
      "   macro avg       0.70      0.69      0.69       347\n",
      "weighted avg       0.70      0.70      0.70       347\n",
      "\n"
     ]
    },
    {
     "data": {
      "image/png": "[encoded data removed]",
      "text/plain": [
       "<Figure size 500x500 with 2 Axes>"
      ]
     },
     "metadata": {},
     "output_type": "display_data"
    }
   ],
   "source": [
    "# Answer here\n",
    "from sklearn.naive_bayes import MultinomialNB\n",
    "from sklearn.metrics import accuracy_score\n",
    "from sklearn.metrics import confusion_matrix\n",
    "\n",
    "\n",
    "naive_bayes = MultinomialNB()\n",
    "naive_bayes.fit(X_train, y_train)\n",
    "\n",
    "train_pred = naive_bayes.predict(X_train)\n",
    "test_pred = naive_bayes.predict(X_test)\n",
    "\n",
    "train_acc = accuracy_score(y_true=y_train, y_pred=train_pred)\n",
    "test_acc = accuracy_score(y_true=y_test, y_pred=test_pred)\n",
    "\n",
    "print('training accuracy: {}'.format(round(train_acc, 2)))\n",
    "print('testing accuracy: {}'.format(round(test_acc, 2)))\n",
    "\n",
    "print(classification_report(y_true=y_test, y_pred=test_pred))\n",
    "\n",
    "cm = confusion_matrix(y_true=y_test, y_pred=test_pred)\n",
    "plot_confusion_matrix(cm, classes=my_tags, title='Confusion matrix')"
   ]
  },
  {
   "cell_type": "code",
   "execution_count": null,
   "metadata": {},
   "outputs": [],
   "source": [
    "# result 分析\n",
    "# training accuracy: 0.79\n",
    "# testing accuracy: 0.7\n",
    "# 1. accuracy\n",
    "# training accuracy 並不是夠高, 代表 model 可能還不夠複雜, 但是 overfitting 的問題比較好一下\n",
    "# 2,3 classification_report & confusion matrix\n",
    "# fear and joy 的表現良好\n",
    "# anger 和 sadness 的 percision 和 recall 都低. 表示在判定 anger 和 sadness 時, 正確率不高, 常誤判(偽陽), 也未能有效找到所有 anger 和 sadness 的 data\n",
    "\n",
    "\n",
    "\n"
   ]
  },
  {
   "cell_type": "markdown",
   "metadata": {},
   "source": [
    "### Exercise 5 \n",
    "How do the results from the Naive Bayes model and the Decision Tree model compare? How do you interpret these differences? Use the theoretical background covered in class to try and explain these differences."
   ]
  },
  {
   "cell_type": "code",
   "execution_count": null,
   "metadata": {},
   "outputs": [],
   "source": [
    "# Answer here\n",
    "# decision tree model 能夠把 data 分的很細, 但也因此容易 overfitting, 相對的 naive bayes model, 他對特徵的相互關係做簡化, \n",
    "# 因此不容易 overfitting, 但是也因此, 他的 accuracy 會比較低 (model 複雜度不夠, training accuracy 上不去)"
   ]
  },
  {
   "cell_type": "markdown",
   "metadata": {},
   "source": [
    "### Exercise 6\n",
    "Plot the Training and Validation Accuracy and Loss (different plots), just like the images below.(Note: the pictures below are an example from a different model). How to interpret the graphs you got? How are they related to the concept of overfitting/underfitting covered in class?"
   ]
  },
  {
   "cell_type": "code",
   "execution_count": 18,
   "metadata": {},
   "outputs": [
    {
     "name": "stdout",
     "output_type": "stream",
     "text": [
      "Model: \"model\"\n",
      "_________________________________________________________________\n",
      " Layer (type)                Output Shape              Param #   \n",
      "=================================================================\n",
      " input_1 (InputLayer)        [(None, 500)]             0         \n",
      "                                                                 \n",
      " dense (Dense)               (None, 64)                32064     \n",
      "                                                                 \n",
      " re_lu (ReLU)                (None, 64)                0         \n",
      "                                                                 \n",
      " dense_1 (Dense)             (None, 64)                4160      \n",
      "                                                                 \n",
      " re_lu_1 (ReLU)              (None, 64)                0         \n",
      "                                                                 \n",
      " dense_2 (Dense)             (None, 4)                 260       \n",
      "                                                                 \n",
      " softmax (Softmax)           (None, 4)                 0         \n",
      "                                                                 \n",
      "=================================================================\n",
      "Total params: 36,484\n",
      "Trainable params: 36,484\n",
      "Non-trainable params: 0\n",
      "_________________________________________________________________\n",
      "Epoch 1/25\n"
     ]
    },
    {
     "name": "stderr",
     "output_type": "stream",
     "text": [
      "c:\\Users\\user\\AppData\\Local\\Programs\\Python\\Python310\\lib\\site-packages\\tensorflow\\python\\framework\\indexed_slices.py:444: UserWarning:\n",
      "\n",
      "Converting sparse IndexedSlices(IndexedSlices(indices=Tensor(\"gradient_tape/model/dense/embedding_lookup_sparse/Reshape_1:0\", shape=(None,), dtype=int32), values=Tensor(\"gradient_tape/model/dense/embedding_lookup_sparse/Reshape:0\", shape=(None, 64), dtype=float32), dense_shape=Tensor(\"gradient_tape/model/dense/embedding_lookup_sparse/Cast:0\", shape=(2,), dtype=int32))) to a dense Tensor of unknown shape. This may consume a large amount of memory.\n",
      "\n"
     ]
    },
    {
     "name": "stdout",
     "output_type": "stream",
     "text": [
      "113/113 [==============================] - 1s 3ms/step - loss: 1.3188 - accuracy: 0.3756 - val_loss: 1.2779 - val_accuracy: 0.4236\n",
      "Epoch 2/25\n",
      "113/113 [==============================] - 0s 3ms/step - loss: 0.9650 - accuracy: 0.6460 - val_loss: 0.9300 - val_accuracy: 0.6657\n",
      "Epoch 3/25\n",
      "113/113 [==============================] - 0s 2ms/step - loss: 0.5759 - accuracy: 0.7966 - val_loss: 0.8005 - val_accuracy: 0.6945\n",
      "Epoch 4/25\n",
      "113/113 [==============================] - 0s 2ms/step - loss: 0.4204 - accuracy: 0.8428 - val_loss: 0.7797 - val_accuracy: 0.7061\n",
      "Epoch 5/25\n",
      "113/113 [==============================] - 0s 2ms/step - loss: 0.3366 - accuracy: 0.8807 - val_loss: 0.8188 - val_accuracy: 0.7003\n",
      "Epoch 6/25\n",
      "113/113 [==============================] - 0s 2ms/step - loss: 0.2830 - accuracy: 0.9017 - val_loss: 0.8661 - val_accuracy: 0.7003\n",
      "Epoch 7/25\n",
      "113/113 [==============================] - 0s 2ms/step - loss: 0.2338 - accuracy: 0.9228 - val_loss: 0.9105 - val_accuracy: 0.6715\n",
      "Epoch 8/25\n",
      "113/113 [==============================] - 0s 2ms/step - loss: 0.1961 - accuracy: 0.9347 - val_loss: 0.9775 - val_accuracy: 0.6744\n",
      "Epoch 9/25\n",
      "113/113 [==============================] - 0s 2ms/step - loss: 0.1684 - accuracy: 0.9433 - val_loss: 1.0503 - val_accuracy: 0.6744\n",
      "Epoch 10/25\n",
      "113/113 [==============================] - 0s 2ms/step - loss: 0.1473 - accuracy: 0.9543 - val_loss: 1.0900 - val_accuracy: 0.6830\n",
      "Epoch 11/25\n",
      "113/113 [==============================] - 0s 2ms/step - loss: 0.1300 - accuracy: 0.9596 - val_loss: 1.1703 - val_accuracy: 0.6686\n",
      "Epoch 12/25\n",
      "113/113 [==============================] - 0s 2ms/step - loss: 0.1130 - accuracy: 0.9671 - val_loss: 1.2205 - val_accuracy: 0.6571\n",
      "Epoch 13/25\n",
      "113/113 [==============================] - 0s 2ms/step - loss: 0.1053 - accuracy: 0.9718 - val_loss: 1.2568 - val_accuracy: 0.6772\n",
      "Epoch 14/25\n",
      "113/113 [==============================] - 0s 2ms/step - loss: 0.0955 - accuracy: 0.9720 - val_loss: 1.3372 - val_accuracy: 0.6744\n",
      "Epoch 15/25\n",
      "113/113 [==============================] - 0s 2ms/step - loss: 0.0953 - accuracy: 0.9726 - val_loss: 1.4016 - val_accuracy: 0.6571\n",
      "Epoch 16/25\n",
      "113/113 [==============================] - 0s 2ms/step - loss: 0.0913 - accuracy: 0.9726 - val_loss: 1.3712 - val_accuracy: 0.6686\n",
      "Epoch 17/25\n",
      "113/113 [==============================] - 0s 2ms/step - loss: 0.0842 - accuracy: 0.9779 - val_loss: 1.4511 - val_accuracy: 0.6686\n",
      "Epoch 18/25\n",
      "113/113 [==============================] - 0s 2ms/step - loss: 0.0778 - accuracy: 0.9759 - val_loss: 1.4861 - val_accuracy: 0.6571\n",
      "Epoch 19/25\n",
      "113/113 [==============================] - 0s 3ms/step - loss: 0.0793 - accuracy: 0.9743 - val_loss: 1.4846 - val_accuracy: 0.6715\n",
      "Epoch 20/25\n",
      "113/113 [==============================] - 0s 2ms/step - loss: 0.0707 - accuracy: 0.9773 - val_loss: 1.5592 - val_accuracy: 0.6571\n",
      "Epoch 21/25\n",
      "113/113 [==============================] - 0s 2ms/step - loss: 0.0747 - accuracy: 0.9737 - val_loss: 1.5515 - val_accuracy: 0.6571\n",
      "Epoch 22/25\n",
      "113/113 [==============================] - 0s 2ms/step - loss: 0.0641 - accuracy: 0.9801 - val_loss: 1.6522 - val_accuracy: 0.6484\n",
      "Epoch 23/25\n",
      "113/113 [==============================] - 0s 2ms/step - loss: 0.0640 - accuracy: 0.9770 - val_loss: 1.6361 - val_accuracy: 0.6628\n",
      "Epoch 24/25\n",
      "113/113 [==============================] - 0s 2ms/step - loss: 0.0670 - accuracy: 0.9751 - val_loss: 1.5979 - val_accuracy: 0.6686\n",
      "Epoch 25/25\n",
      "113/113 [==============================] - 0s 2ms/step - loss: 0.0622 - accuracy: 0.9776 - val_loss: 1.6306 - val_accuracy: 0.6513\n",
      "training finish\n"
     ]
    }
   ],
   "source": [
    "import keras\n",
    "X_train = BOW_500.transform(train_df['text'])\n",
    "y_train = train_df['emotion']\n",
    "X_test = BOW_500.transform(test_df['text'])\n",
    "y_test = test_df['emotion']\n",
    "from sklearn.preprocessing import LabelEncoder\n",
    "label_encoder = LabelEncoder()\n",
    "label_encoder.fit(y_train)\n",
    "def label_encode(le, labels):\n",
    "    enc = le.transform(labels)\n",
    "    return keras.utils.to_categorical(enc)\n",
    "def label_decode(le, one_hot_label):\n",
    "    dec = np.argmax(one_hot_label, axis=1)\n",
    "    return le.inverse_transform(dec)\n",
    "y_train = label_encode(label_encoder, y_train)\n",
    "y_test = label_encode(label_encoder, y_test)\n",
    "\n",
    "input_shape = X_train.shape[1]\n",
    "output_shape = len(label_encoder.classes_)\n",
    "from keras.models import Model\n",
    "from keras.layers import Input, Dense\n",
    "from keras.layers import ReLU, Softmax\n",
    "# input layer\n",
    "model_input = Input(shape=(input_shape, ))  # 500\n",
    "X = model_input\n",
    "# 1st hidden layer\n",
    "X_W1 = Dense(units=64)(X)  # 64\n",
    "H1 = ReLU()(X_W1)\n",
    "# 2nd hidden layer\n",
    "H1_W2 = Dense(units=64)(H1)  # 64\n",
    "H2 = ReLU()(H1_W2)\n",
    "# output layer\n",
    "H2_W3 = Dense(units=output_shape)(H2)  # 4\n",
    "H3 = Softmax()(H2_W3)\n",
    "model_output = H3\n",
    "# create model\n",
    "model = Model(inputs=[model_input], outputs=[model_output])\n",
    "# loss function & optimizer\n",
    "model.compile(optimizer='adam',\n",
    "              loss='categorical_crossentropy',\n",
    "              metrics=['accuracy'])\n",
    "# show model construction\n",
    "model.summary()\n",
    "from keras.callbacks import CSVLogger\n",
    "csv_logger = CSVLogger('../logs/training_log.csv')\n",
    "# training setting\n",
    "epochs = 25\n",
    "batch_size = 32\n",
    "# training!\n",
    "history = model.fit(X_train, y_train, \n",
    "                    epochs=epochs, \n",
    "                    batch_size=batch_size, \n",
    "                    callbacks=[csv_logger],\n",
    "                    validation_data = (X_test, y_test))\n",
    "print('training finish')"
   ]
  },
  {
   "cell_type": "code",
   "execution_count": 24,
   "metadata": {},
   "outputs": [
    {
     "data": {
      "image/png": "[encoded data removed]",
      "text/plain": [
       "<Figure size 640x480 with 1 Axes>"
      ]
     },
     "metadata": {},
     "output_type": "display_data"
    },
    {
     "data": {
      "image/png": "[encoded data removed]",
      "text/plain": [
       "<Figure size 640x480 with 1 Axes>"
      ]
     },
     "metadata": {},
     "output_type": "display_data"
    }
   ],
   "source": [
    "# plot training history\n",
    "import matplotlib.pyplot as plt\n",
    "plt.plot(history.history['accuracy'])\n",
    "plt.plot(history.history['val_accuracy'])\n",
    "plt.title('model accuracy')\n",
    "plt.ylabel('accuracy')\n",
    "plt.xlabel('epoch')\n",
    "plt.legend(['train', 'val'], loc='upper left')\n",
    "plt.show()\n",
    "\n",
    "plt.plot(history.history['loss'])\n",
    "plt.plot(history.history['val_loss'])\n",
    "plt.title('model loss')\n",
    "plt.ylabel('loss')\n",
    "plt.xlabel('epoch')\n",
    "plt.legend(['train', 'val'], loc='upper left')\n",
    "plt.show()"
   ]
  },
  {
   "cell_type": "code",
   "execution_count": null,
   "metadata": {},
   "outputs": [],
   "source": [
    "# result 分析\n",
    "# val 的 loss 暴升, 遠高於 training, 且 val 的 accuracy 也遠低於 training, 代表 model 有 overfitting 的問題 "
   ]
  },
  {
   "cell_type": "markdown",
   "metadata": {},
   "source": [
    "### Exercise 7\n",
    "Now, we have the word vectors, but our input data is a sequence of words (or say sentence). \n",
    "How can we utilize these \"word\" vectors to represent the sentence data and train our model?"
   ]
  },
  {
   "cell_type": "code",
   "execution_count": 30,
   "metadata": {},
   "outputs": [
    {
     "name": "stdout",
     "output_type": "stream",
     "text": [
      "load ok\n"
     ]
    },
    {
     "data": {
      "text/plain": [
       "array([list(['Grateful', 'for', 'all', 'the', 'hungry', 'people', 'in', 'my', 'life', '!', 'Hungry', 'to', 'learn', ',', 'change', ',', 'grow', ',', 'help', ',', 'etc', '-', 'not', 'sure', 'anybody', 'has', 'it', 'better', '!', '#', 'relentless']),\n",
       "       list(['only', 'time', 'I', 'am', 'ever', 'cheering', 'for', 'you', 'Johnny']),\n",
       "       list(['I', 'blame', 'the', 'whole', 'season', 'on', 'Natalie', '!', 'The', 'season', 'would', 'have', 'been', 'so', 'different', 'had', 'she', 'not', 'turned', 'her', 'back', 'on', 'her', 'alliance', '!', '#', 'pissed'])],\n",
       "      dtype=object)"
      ]
     },
     "execution_count": 30,
     "metadata": {},
     "output_type": "execute_result"
    }
   ],
   "source": [
    "# prepare model\n",
    "import gensim.downloader as api\n",
    "import ssl\n",
    "ssl._create_default_https_context = ssl._create_unverified_context\n",
    "glove_twitter_25_model = api.load('glove-twitter-25')\n",
    "print('load ok')\n",
    "\n",
    "# prepare data\n",
    "train_df['text_tokenized'] = train_df['text'].apply(lambda x: nltk.word_tokenize(x))\n",
    "train_df[['id', 'text', 'text_tokenized']].head()\n",
    "training_corpus = train_df['text_tokenized'].values\n",
    "training_corpus[:3]"
   ]
  },
  {
   "cell_type": "code",
   "execution_count": 31,
   "metadata": {},
   "outputs": [
    {
     "name": "stdout",
     "output_type": "stream",
     "text": [
      "example sentence ['Grateful', 'for', 'all', 'the', 'hungry', 'people', 'in', 'my', 'life', '!', 'Hungry', 'to', 'learn', ',', 'change', ',', 'grow', ',', 'help', ',', 'etc', '-', 'not', 'sure', 'anybody', 'has', 'it', 'better', '!', '#', 'relentless']\n",
      "sentence_vec: \n",
      " [ 0.17155291  0.03920062 -0.28089342 -0.01214091 -0.21230963  0.16572729\n",
      "  1.147981    0.13933252 -0.28634545  0.20644441 -0.15624069 -0.06766885\n",
      " -4.5201244  -0.08233414 -0.00489651 -0.14345315 -0.07550607 -0.34061444\n",
      " -0.19595477 -0.47548634  0.02346351 -0.00851081 -0.12559846  0.2403838\n",
      "  0.05736572]\n",
      "sentence_vec shape:  (25,)\n"
     ]
    }
   ],
   "source": [
    "# Answer here\n",
    "# 有許多方法可以將句子轉換成向量 送進 model train, 例如: 直接算 words 的 word vector 的平均, 或是使用 TF-IDF (加權過的平均) 等等, 以下展示最簡單的方法: 直接算 words 的 word vector 的平均\n",
    "\n",
    "example_sentence = training_corpus[0]\n",
    "print(\"example sentence\",example_sentence)\n",
    "word_vec_list = []\n",
    "for word in example_sentence:\n",
    "    if word in glove_twitter_25_model:\n",
    "        word_vec_list.append(glove_twitter_25_model[word])\n",
    "if len(word_vec_list) > 0:\n",
    "    sentence_vec = np.mean(word_vec_list, axis=0)\n",
    "else:\n",
    "    sentence_vec = np.zeros(glove_twitter_25_model.vector_size)\n",
    "    \n",
    "print(\"sentence_vec: \\n\", sentence_vec)\n",
    "print(\"sentence_vec shape: \", sentence_vec.shape)"
   ]
  },
  {
   "cell_type": "markdown",
   "metadata": {},
   "source": [
    "### Exercise 8\n",
    "Generate a t-SNE visualization to show the 15 words most related to the words \"angry\", \"happy\", \"sad\", \"fear\" (60 words total)"
   ]
  },
  {
   "cell_type": "code",
   "execution_count": 26,
   "metadata": {},
   "outputs": [
    {
     "name": "stdout",
     "output_type": "stream",
     "text": [
      "load ok\n"
     ]
    }
   ],
   "source": [
    "# prepare model\n",
    "from gensim.models import KeyedVectors\n",
    "model_path = \"../GoogleNews-vectors-negative300.bin.gz\"\n",
    "w2v_google_model = KeyedVectors.load_word2vec_format(model_path, binary=True)\n",
    "print('load ok')"
   ]
  },
  {
   "cell_type": "code",
   "execution_count": 27,
   "metadata": {},
   "outputs": [
    {
     "name": "stdout",
     "output_type": "stream",
     "text": [
      "angry_words:  ['angry', 'irate', 'enraged', 'indignant', 'incensed', 'annoyed', 'agitated', 'frustrated', 'furious', 'unhappy', 'outraged', 'livid', 'irritated', 'exasperated', 'angrier']\n",
      "happy_words:  ['happy', 'glad', 'pleased', 'ecstatic', 'overjoyed', 'thrilled', 'satisfied', 'proud', 'delighted', 'disappointed', 'excited', 'happier', 'Said_Hirschbeck', 'elated', 'thankful']\n",
      "sad_words:  ['sad', 'saddening', 'Sad', 'saddened', 'heartbreaking', 'disheartening', 'Meny_Friedman', 'parishioner_Pat_Patello', 'saddens_me', 'distressing', 'reminders_bobbing', 'Turkoman_Shiites', 'saddest', 'unfortunate', 'sorry']\n",
      "fear_words:  ['fear', 'fearful', 'fears', 'Fear', 'fearing', 'worry', 'dread', 'feared', 'anxiety', 'apprehension', 'afraid', 'worries', 'concern', 'distrust', 'worried']\n",
      "\n",
      "target words: \n",
      "['angry', 'irate', 'enraged', 'indignant', 'incensed', 'annoyed', 'agitated', 'frustrated', 'furious', 'unhappy', 'outraged', 'livid', 'irritated', 'exasperated', 'angrier', 'happy', 'glad', 'pleased', 'ecstatic', 'overjoyed', 'thrilled', 'satisfied', 'proud', 'delighted', 'disappointed', 'excited', 'happier', 'Said_Hirschbeck', 'elated', 'thankful', 'sad', 'saddening', 'Sad', 'saddened', 'heartbreaking', 'disheartening', 'Meny_Friedman', 'parishioner_Pat_Patello', 'saddens_me', 'distressing', 'reminders_bobbing', 'Turkoman_Shiites', 'saddest', 'unfortunate', 'sorry', 'fear', 'fearful', 'fears', 'Fear', 'fearing', 'worry', 'dread', 'feared', 'anxiety', 'apprehension', 'afraid', 'worries', 'concern', 'distrust', 'worried']\n",
      "\n",
      "color list:\n",
      "['b', 'b', 'b', 'b', 'b', 'b', 'b', 'b', 'b', 'b', 'b', 'b', 'b', 'b', 'b', 'g', 'g', 'g', 'g', 'g', 'g', 'g', 'g', 'g', 'g', 'g', 'g', 'g', 'g', 'g', 'r', 'r', 'r', 'r', 'r', 'r', 'r', 'r', 'r', 'r', 'r', 'r', 'r', 'r', 'r', 'y', 'y', 'y', 'y', 'y', 'y', 'y', 'y', 'y', 'y', 'y', 'y', 'y', 'y', 'y']\n"
     ]
    }
   ],
   "source": [
    "# 找相似詞\n",
    "word_list = ['angry', 'happy','sad','fear']\n",
    "topn = 14\n",
    "angry_words = ['angry'] + [word_ for word_, sim_ in w2v_google_model.most_similar('angry', topn=topn)]\n",
    "happy_words = ['happy'] + [word_ for word_, sim_ in w2v_google_model.most_similar('happy', topn=topn)]\n",
    "sad_words = ['sad'] + [word_ for word_, sim_ in w2v_google_model.most_similar('sad', topn=topn)]\n",
    "fear_words = ['fear'] + [word_ for word_, sim_ in w2v_google_model.most_similar('fear', topn=topn)]\n",
    "\n",
    "print('angry_words: ', angry_words)\n",
    "print('happy_words: ', happy_words)\n",
    "print('sad_words: ', sad_words)\n",
    "print('fear_words: ', fear_words)\n",
    "\n",
    "target_words = angry_words + happy_words + sad_words + fear_words\n",
    "print('\\ntarget words: ')\n",
    "print(target_words)\n",
    "\n",
    "print('\\ncolor list:')\n",
    "cn = topn + 1\n",
    "color = ['b'] * cn + ['g'] * cn + ['r'] * cn + ['y'] * cn\n",
    "print(color)\n",
    "\n",
    "\n"
   ]
  },
  {
   "cell_type": "code",
   "execution_count": 28,
   "metadata": {},
   "outputs": [
    {
     "name": "stdout",
     "output_type": "stream",
     "text": [
      "target_size:  60\n",
      "X_train.shape:  (260, 300)\n"
     ]
    },
    {
     "name": "stderr",
     "output_type": "stream",
     "text": [
      "c:\\Users\\user\\AppData\\Local\\Programs\\Python\\Python310\\lib\\site-packages\\sklearn\\manifold\\_t_sne.py:800: FutureWarning:\n",
      "\n",
      "The default initialization in TSNE will change from 'random' to 'pca' in 1.2.\n",
      "\n",
      "c:\\Users\\user\\AppData\\Local\\Programs\\Python\\Python310\\lib\\site-packages\\sklearn\\manifold\\_t_sne.py:810: FutureWarning:\n",
      "\n",
      "The default learning rate in TSNE will change from 200.0 to 'auto' in 1.2.\n",
      "\n"
     ]
    },
    {
     "name": "stdout",
     "output_type": "stream",
     "text": [
      "X_tsne.shape:  (260, 2)\n"
     ]
    },
    {
     "data": {
      "image/png": "[encoded data removed]",
      "text/plain": [
       "<Figure size 862.5x862.5 with 1 Axes>"
      ]
     },
     "metadata": {},
     "output_type": "display_data"
    }
   ],
   "source": [
    "# 畫 t-SNE 圖\n",
    "from sklearn.manifold import TSNE\n",
    "import matplotlib.pyplot as plt\n",
    "\n",
    "model = w2v_google_model\n",
    "size = 200 \n",
    "target_size = len(target_words)\n",
    "print('target_size: ', target_size)\n",
    "all_word = list(model.index_to_key)\n",
    "word_train = target_words + all_word[:size]\n",
    "X_train = model[word_train]\n",
    "print('X_train.shape: ', X_train.shape)\n",
    "\n",
    "tsne = TSNE(n_components=2, metric='cosine', random_state=28)\n",
    "X_tsne = tsne.fit_transform(X_train)\n",
    "print('X_tsne.shape: ', X_tsne.shape)\n",
    "\n",
    "plt.figure(figsize=(7.5, 7.5), dpi=115)\n",
    "plt.scatter(X_tsne[:target_size, 0], X_tsne[:target_size, 1], c=color)\n",
    "for label, x, y in zip(target_words, X_tsne[:target_size, 0], X_tsne[:target_size, 1]):\n",
    "    plt.annotate(label, xy=(x,y), xytext=(0,0),  textcoords='offset points')\n",
    "plt.show()\n"
   ]
  },
  {
   "cell_type": "markdown",
   "metadata": {},
   "source": [
    "# HW2 Kaggle Competition"
   ]
  },
  {
   "cell_type": "code",
   "execution_count": 33,
   "metadata": {},
   "outputs": [],
   "source": [
    "# import pandas as pd\n",
    "# import json"
   ]
  },
  {
   "cell_type": "markdown",
   "metadata": {},
   "source": [
    "### pre-processing\n",
    "\n",
    "1. 切分資料集, 獲得 train and valid and test data\n",
    "2. 因為 emotion 分布不均, 所以每種 emotion 只會隨機取 min(每個 emotion 的數量) 個\n",
    "3. 隨機 shuffle 資料集"
   ]
  },
  {
   "cell_type": "code",
   "execution_count": 34,
   "metadata": {},
   "outputs": [
    {
     "name": "stdout",
     "output_type": "stream",
     "text": [
      "   tweet_id                                                str  \\\n",
      "0  0x376b20  People who post \"add me on #Snapchat\" must be ...   \n",
      "1  0x2d5350  @brianklaas As we see, Trump is dangerous to #...   \n",
      "2  0x28b412  Confident of your obedience, I write to you, k...   \n",
      "3  0x1cd5b0                Now ISSA is stalking Tasha 😂😂😂 <LH>   \n",
      "4  0x2de201  \"Trust is not the same as faith. A friend is s...   \n",
      "\n",
      "                                                text  \n",
      "0  [People who post \"add me on #Snapchat\" must be...  \n",
      "1  [@brianklaas As we see, Trump is dangerous to ...  \n",
      "2  [Confident of your obedience, I write to you, ...  \n",
      "3              [Now ISSA is stalking Tasha 😂😂😂 <LH>]  \n",
      "4  [\"Trust is not the same as faith. A friend is ...  \n",
      "(1867535, 3)\n"
     ]
    }
   ],
   "source": [
    "# # #讀取 data .jason 檔案\n",
    "\n",
    "# id = []\n",
    "# text = []\n",
    "# with open('../data/twitter/tweets_DM.json','r') as f:\n",
    "#     for line in f:\n",
    "#         json_data = json.loads(line)\n",
    "#         tweet = json_data.get('_source', {}).get('tweet', {})\n",
    "#         id.append(tweet.get('tweet_id'))\n",
    "#         text.append(tweet.get('text'))\n",
    "\n",
    "# raw_data_df = pd.DataFrame({'tweet_id': id, 'str': text})\n",
    "# raw_data_df[\"text\"] =  raw_data_df[\"str\"].apply(lambda x: [x])\n",
    "# print(raw_data_df.head())\n",
    "# print(raw_data_df.shape)"
   ]
  },
  {
   "cell_type": "code",
   "execution_count": 35,
   "metadata": {},
   "outputs": [
    {
     "name": "stdout",
     "output_type": "stream",
     "text": [
      "   tweet_id                                                str  \\\n",
      "0  0x376b20  People who post \"add me on #Snapchat\" must be ...   \n",
      "1  0x2d5350  @brianklaas As we see, Trump is dangerous to #...   \n",
      "2  0x28b412  Confident of your obedience, I write to you, k...   \n",
      "3  0x1cd5b0                Now ISSA is stalking Tasha 😂😂😂 <LH>   \n",
      "4  0x2de201  \"Trust is not the same as faith. A friend is s...   \n",
      "\n",
      "                                                text       emotion  \n",
      "0  [People who post \"add me on #Snapchat\" must be...  anticipation  \n",
      "1  [@brianklaas As we see, Trump is dangerous to ...       sadness  \n",
      "2  [Confident of your obedience, I write to you, ...           NaN  \n",
      "3              [Now ISSA is stalking Tasha 😂😂😂 <LH>]          fear  \n",
      "4  [\"Trust is not the same as faith. A friend is ...           NaN  \n"
     ]
    }
   ],
   "source": [
    "# # 讀取 emition.csv 檔案\n",
    "# emotion_df = pd.read_csv('../data/twitter/emotion.csv')\n",
    "# merged_df = pd.merge(raw_data_df, emotion_df, on='tweet_id',how='left')\n",
    "# print(merged_df.head())\n"
   ]
  },
  {
   "cell_type": "code",
   "execution_count": 36,
   "metadata": {},
   "outputs": [
    {
     "name": "stdout",
     "output_type": "stream",
     "text": [
      "(1455563, 4)\n",
      "(411972, 4)\n",
      "   tweet_id                                                str  \\\n",
      "0  0x376b20  People who post \"add me on #Snapchat\" must be ...   \n",
      "1  0x2d5350  @brianklaas As we see, Trump is dangerous to #...   \n",
      "2  0x1cd5b0                Now ISSA is stalking Tasha 😂😂😂 <LH>   \n",
      "3  0x1d755c  @RISKshow @TheKevinAllison Thx for the BEST TI...   \n",
      "4  0x2c91a8       Still waiting on those supplies Liscus. <LH>   \n",
      "\n",
      "                                                text       emotion  \n",
      "0  [People who post \"add me on #Snapchat\" must be...  anticipation  \n",
      "1  [@brianklaas As we see, Trump is dangerous to ...       sadness  \n",
      "2              [Now ISSA is stalking Tasha 😂😂😂 <LH>]          fear  \n",
      "3  [@RISKshow @TheKevinAllison Thx for the BEST T...           joy  \n",
      "4     [Still waiting on those supplies Liscus. <LH>]  anticipation  \n",
      "   tweet_id                                                str  \\\n",
      "0  0x28b412  Confident of your obedience, I write to you, k...   \n",
      "1  0x2de201  \"Trust is not the same as faith. A friend is s...   \n",
      "2  0x218443  When do you have enough ? When are you satisfi...   \n",
      "3  0x2939d5  God woke you up, now chase the day #GodsPlan #...   \n",
      "4  0x26289a  In these tough times, who do YOU turn to as yo...   \n",
      "\n",
      "                                                text emotion  \n",
      "0  [Confident of your obedience, I write to you, ...     NaN  \n",
      "1  [\"Trust is not the same as faith. A friend is ...     NaN  \n",
      "2  [When do you have enough ? When are you satisf...     NaN  \n",
      "3  [God woke you up, now chase the day #GodsPlan ...     NaN  \n",
      "4  [In these tough times, who do YOU turn to as y...     NaN  \n"
     ]
    }
   ],
   "source": [
    "# #切分 train and test data\n",
    "# split_csv = pd.read_csv('../data/twitter/data_identification.csv')\n",
    "\n",
    "# train_data = merged_df[merged_df[\"tweet_id\"].isin(split_csv[split_csv[\"identification\"] == \"train\"][\"tweet_id\"])]\n",
    "# test_data = merged_df[merged_df[\"tweet_id\"].isin(split_csv[split_csv[\"identification\"] == \"test\"][\"tweet_id\"])]\n",
    "# train_data.reset_index(drop=True, inplace=True)\n",
    "# test_data.reset_index(drop=True, inplace=True)\n",
    "\n",
    "# print(train_data.shape)\n",
    "# print(test_data.shape)\n",
    "# print(train_data.head())\n",
    "# print(test_data.head())"
   ]
  },
  {
   "cell_type": "code",
   "execution_count": 37,
   "metadata": {},
   "outputs": [
    {
     "name": "stdout",
     "output_type": "stream",
     "text": [
      "train:\n",
      " joy             516017\n",
      "anticipation    248935\n",
      "trust           205478\n",
      "sadness         193437\n",
      "disgust         139101\n",
      "fear             63999\n",
      "surprise         48729\n",
      "anger            39867\n",
      "Name: emotion, dtype: int64\n",
      "test\n",
      " Series([], Name: emotion, dtype: int64)\n"
     ]
    }
   ],
   "source": [
    "# # check \n",
    "\n",
    "# check_train_emotion = train_data[\"emotion\"].value_counts()\n",
    "# print(\"train:\\n\",check_train_emotion)\n",
    "\n",
    "# check_test_emotion = test_data[\"emotion\"].value_counts()\n",
    "# print(\"test\\n\",check_test_emotion)"
   ]
  },
  {
   "cell_type": "code",
   "execution_count": 38,
   "metadata": {},
   "outputs": [],
   "source": [
    "# # 存成 pkl 檔案\n",
    "# train_data.to_pickle('../data/twitter/train_data.pkl')\n",
    "# test_data.to_pickle('../data/twitter/test_data.pkl')"
   ]
  },
  {
   "cell_type": "code",
   "execution_count": 39,
   "metadata": {},
   "outputs": [
    {
     "name": "stdout",
     "output_type": "stream",
     "text": [
      "train:\n",
      " joy             514266\n",
      "anticipation    248695\n",
      "trust           204885\n",
      "sadness         193198\n",
      "disgust         138996\n",
      "fear             63821\n",
      "surprise         48205\n",
      "anger            39712\n",
      "Name: emotion, dtype: int64\n",
      "   tweet_id                                                str  \\\n",
      "0  0x2f3224  ‘[FREE] Epic Pop Hip Hop Beat - Crazy Rap R&B ...   \n",
      "1  0x21c86e                       @luvselefantes I know ❤ <LH>   \n",
      "2  0x2700e9                           <LH> is the #HardestPart   \n",
      "3  0x34860d  This baby daddy is such a piece of shit. <LH> ...   \n",
      "4  0x1e65d7  Thousands of miserable blistering iconoclasts ...   \n",
      "\n",
      "                                                text       emotion  \n",
      "0  [‘[FREE] Epic Pop Hip Hop Beat - Crazy Rap R&B...      surprise  \n",
      "1                     [@luvselefantes I know ❤ <LH>]         trust  \n",
      "2                         [<LH> is the #HardestPart]  anticipation  \n",
      "3  [This baby daddy is such a piece of shit. <LH>...      surprise  \n",
      "4  [Thousands of miserable blistering iconoclasts...         anger  \n",
      "        tweet_id                                                str  \\\n",
      "317691  0x1f3c6a                          Molly. Molly. Molly. <LH>   \n",
      "317692  0x2e0f63  @CNN sold his soul to the devil....just for mo...   \n",
      "317693  0x360955  Everyday I read something new about California...   \n",
      "317694  0x27e664  @bcsoccerrumors @joshr_power @TSSRovers Are yo...   \n",
      "317695  0x2a8d05  @AllenHolley_33 Pretty sure this deserved a <L...   \n",
      "\n",
      "                                                     text   emotion  \n",
      "317691                        [Molly. Molly. Molly. <LH>]      fear  \n",
      "317692  [@CNN sold his soul to the devil....just for m...   sadness  \n",
      "317693  [Everyday I read something new about Californi...  surprise  \n",
      "317694  [@bcsoccerrumors @joshr_power @TSSRovers Are y...   disgust  \n",
      "317695  [@AllenHolley_33 Pretty sure this deserved a <...       joy  \n",
      "train:\n",
      " surprise        39712\n",
      "trust           39712\n",
      "anticipation    39712\n",
      "anger           39712\n",
      "joy             39712\n",
      "sadness         39712\n",
      "disgust         39712\n",
      "fear            39712\n",
      "Name: emotion, dtype: int64\n"
     ]
    }
   ],
   "source": [
    "import pandas as pd\n",
    "# 抓 pkl 檔案\n",
    "all_train_data = pd.read_pickle('../data/twitter/train_data.pkl')\n",
    "all_test_data = pd.read_pickle('../data/twitter/test_data.pkl')\n",
    "\n",
    "all_train_data.drop_duplicates(subset=['str'], inplace=True, keep='first')\n",
    "\n",
    "# 查看 train_data 的 emotion 分布\n",
    "check_train_emotion = all_train_data[\"emotion\"].value_counts()\n",
    "print(\"train:\\n\",check_train_emotion)\n",
    "min_count = check_train_emotion.min()\n",
    "# 從 train_data 對每種 emotion 都隨機抽 39867 筆出來\n",
    "\n",
    "down_sampled_train_data = pd.DataFrame()\n",
    "for emotion in all_train_data[\"emotion\"].unique():\n",
    "    sample = all_train_data[all_train_data[\"emotion\"] == emotion].sample(n=min_count, random_state=1)\n",
    "    down_sampled_train_data = pd.concat([down_sampled_train_data, sample])\n",
    "\n",
    "# print(down_sampled_train_data.shape)\n",
    "# print(down_sampled_train_data.head())\n",
    "# print(down_sampled_train_data.tail())\n",
    "\n",
    "# 發現是按照 emotion 排序的，所以要 shuffle\n",
    "down_sampled_train_data = down_sampled_train_data.sample(frac=1, random_state=1)\n",
    "\n",
    "# print(down_sampled_train_data.shape)\n",
    "# print(down_sampled_train_data.head())\n",
    "# print(down_sampled_train_data.tail())\n",
    "\n",
    "down_sampled_train_data.reset_index(drop=True, inplace=True)\n",
    "print(down_sampled_train_data.head())\n",
    "print(down_sampled_train_data.tail())\n",
    "\n",
    "check_train_emotion = down_sampled_train_data[\"emotion\"].value_counts()\n",
    "print(\"train:\\n\",check_train_emotion)\n"
   ]
  },
  {
   "cell_type": "code",
   "execution_count": 40,
   "metadata": {},
   "outputs": [
    {
     "name": "stdout",
     "output_type": "stream",
     "text": [
      "(254156, 4)\n",
      "(63540, 4)\n"
     ]
    }
   ],
   "source": [
    "# 切 data train -> train and valid include x and y\n",
    "# 切 data test -> test include x and y\n",
    "\n",
    "from sklearn.model_selection import train_test_split\n",
    "\n",
    "train_data, valid_data = train_test_split(down_sampled_train_data, test_size=0.2, random_state=1)\n",
    "print(train_data.shape)\n",
    "print(valid_data.shape)\n",
    "\n",
    "train_data.reset_index(drop=True, inplace=True)\n",
    "valid_data.reset_index(drop=True, inplace=True)\n",
    "\n",
    "\n",
    "\n"
   ]
  },
  {
   "cell_type": "markdown",
   "metadata": {},
   "source": [
    "### 特徵工程\n",
    "1. 使用 TF-IDF 產生 10000 維的向量\n",
    "2. 將 emotion 轉成 one-hot encoding"
   ]
  },
  {
   "cell_type": "code",
   "execution_count": 41,
   "metadata": {},
   "outputs": [
    {
     "name": "stderr",
     "output_type": "stream",
     "text": [
      "[nltk_data] Downloading package punkt to\n",
      "[nltk_data]     C:\\Users\\user\\AppData\\Roaming\\nltk_data...\n",
      "[nltk_data]   Package punkt is already up-to-date!\n",
      "c:\\Users\\user\\AppData\\Local\\Programs\\Python\\Python310\\lib\\site-packages\\sklearn\\feature_extraction\\text.py:524: UserWarning:\n",
      "\n",
      "The parameter 'token_pattern' will not be used since 'tokenizer' is not None'\n",
      "\n"
     ]
    },
    {
     "name": "stdout",
     "output_type": "stream",
     "text": [
      "(254156, 10000)\n"
     ]
    }
   ],
   "source": [
    "from sklearn.feature_extraction.text import TfidfVectorizer\n",
    "import nltk\n",
    "from scipy.sparse import csr_matrix\n",
    "import tensorflow as tf\n",
    "import numpy as np\n",
    "# nltk.download('punkt')\n",
    "\n",
    "# TF -IDF 特徵\n",
    "TF_IDF = TfidfVectorizer(max_features=10000, tokenizer=nltk.word_tokenize)\n",
    "TF_IDF.fit(train_data[\"str\"])\n",
    "\n",
    "train_data_TF_IDF = TF_IDF.transform(train_data[\"str\"])\n",
    "\n",
    "print(train_data_TF_IDF.shape)\n"
   ]
  },
  {
   "cell_type": "code",
   "execution_count": 42,
   "metadata": {},
   "outputs": [
    {
     "name": "stdout",
     "output_type": "stream",
     "text": [
      "['🤬', '🤷\\u200d♀️', '🤷🏻\\u200d♀️', '🤷🏼\\u200d♀️', '🤷🏽\\u200d♀️', '🤷🏽\\u200d♂️', '🤷🏾\\u200d♀️', '🤷🏾\\u200d♂️', '🦃', '🦋']\n"
     ]
    },
    {
     "name": "stderr",
     "output_type": "stream",
     "text": [
      "c:\\Users\\user\\AppData\\Local\\Programs\\Python\\Python310\\lib\\site-packages\\sklearn\\utils\\deprecation.py:87: FutureWarning:\n",
      "\n",
      "Function get_feature_names is deprecated; get_feature_names is deprecated in 1.0 and will be removed in 1.2. Please use get_feature_names_out instead.\n",
      "\n"
     ]
    }
   ],
   "source": [
    "feature_names = TF_IDF.get_feature_names()\n",
    "print(feature_names[9990:10000])"
   ]
  },
  {
   "cell_type": "code",
   "execution_count": 43,
   "metadata": {},
   "outputs": [
    {
     "name": "stdout",
     "output_type": "stream",
     "text": [
      "(254156, 10000)\n",
      "(254156,)\n",
      "(63540, 10000)\n",
      "(63540,)\n",
      "(411972, 10000)\n"
     ]
    }
   ],
   "source": [
    "def convert_to_sparse_tensor(csr_mat):\n",
    "    coo = csr_mat.tocoo()\n",
    "    indices = np.mat([coo.row, coo.col]).transpose()\n",
    "    return tf.SparseTensor(indices, coo.data.astype(np.float32), coo.shape)\n",
    "\n",
    "x_train = TF_IDF.transform(train_data[\"str\"])\n",
    "x_train = convert_to_sparse_tensor(x_train)\n",
    "x_train = tf.sparse.reorder(x_train)\n",
    "\n",
    "\n",
    "y_train = train_data[\"emotion\"]\n",
    "\n",
    "x_valid = TF_IDF.transform(valid_data[\"str\"])\n",
    "x_valid = convert_to_sparse_tensor(x_valid)\n",
    "x_valid = tf.sparse.reorder(x_valid)\n",
    "y_valid = valid_data[\"emotion\"]\n",
    "\n",
    "x_test = TF_IDF.transform(all_test_data[\"str\"])\n",
    "x_test = convert_to_sparse_tensor(x_test)\n",
    "x_test = tf.sparse.reorder(x_test)\n",
    "\n",
    "print(x_train.shape)\n",
    "print(y_train.shape)\n",
    "print(x_valid.shape)\n",
    "print(y_valid.shape)\n",
    "print(x_test.shape)\n",
    "\n",
    "\n",
    "\n"
   ]
  },
  {
   "cell_type": "code",
   "execution_count": 44,
   "metadata": {},
   "outputs": [
    {
     "name": "stdout",
     "output_type": "stream",
     "text": [
      "check label_encode and label function\n",
      "['anger' 'anticipation' 'disgust' 'fear' 'joy' 'sadness' 'surprise'\n",
      " 'trust']\n",
      "0     sadness\n",
      "1       trust\n",
      "2         joy\n",
      "3        fear\n",
      "4    surprise\n",
      "Name: emotion, dtype: object\n",
      "(254156,)\n",
      "(254156, 8)\n",
      "[[0. 0. 0. 0. 0. 1. 0. 0.]\n",
      " [0. 0. 0. 0. 0. 0. 0. 1.]\n",
      " [0. 0. 0. 0. 1. 0. 0. 0.]\n",
      " [0. 0. 0. 1. 0. 0. 0. 0.]\n",
      " [0. 0. 0. 0. 0. 0. 1. 0.]]\n"
     ]
    }
   ],
   "source": [
    "import keras\n",
    "import numpy as np\n",
    "from sklearn.preprocessing import LabelEncoder\n",
    "\n",
    "label_coder = LabelEncoder()\n",
    "label_coder.fit(y_train)\n",
    "\n",
    "def label_encode(coder,label):\n",
    "    one_hot = coder.transform(label)\n",
    "    return keras.utils.to_categorical(one_hot)\n",
    "\n",
    "def label(coder,one_hot):\n",
    "    predict = np.argmax(one_hot, axis=1)\n",
    "    return coder.inverse_transform(predict)\n",
    "\n",
    "print(\"check label_encode and label function\")\n",
    "print(label_coder.classes_)\n",
    "print(y_train[:5])\n",
    "print(y_train.shape)\n",
    "\n",
    "y_train_one_hot = label_encode(label_coder,y_train)\n",
    "y_valid_one_hot = label_encode(label_coder,y_valid)\n",
    "\n",
    "print(y_train_one_hot.shape)\n",
    "print(y_train_one_hot[:5])"
   ]
  },
  {
   "cell_type": "code",
   "execution_count": 45,
   "metadata": {},
   "outputs": [
    {
     "name": "stdout",
     "output_type": "stream",
     "text": [
      "10000\n",
      "8\n"
     ]
    }
   ],
   "source": [
    "input_shape = x_train.shape[1]\n",
    "print(input_shape)\n",
    "\n",
    "out_put_shape = len(label_coder.classes_)\n",
    "print(out_put_shape)\n"
   ]
  },
  {
   "cell_type": "markdown",
   "metadata": {},
   "source": [
    "### model \n",
    "1. 使用最簡單的 DNN model"
   ]
  },
  {
   "cell_type": "code",
   "execution_count": null,
   "metadata": {},
   "outputs": [],
   "source": [
    "from keras.models import Model\n",
    "from keras.layers import Input, Dense\n",
    "from keras.layers import ReLU, Softmax\n",
    "from keras.layers import Dropout\n",
    "\n",
    "model_input = Input(shape=(input_shape,))\n",
    "layer1 = Dense(1024)(model_input)\n",
    "active1 = ReLU()(layer1)\n",
    "dropout1 = Dropout(0.5)(active1)\n",
    "layer2 = Dense(512)(dropout1)\n",
    "active2 = ReLU()(layer2)\n",
    "dropout2 = Dropout(0.5)(active2)\n",
    "layer3 = Dense(256)(dropout2)\n",
    "active3 = ReLU()(layer3)\n",
    "dropout3 = Dropout(0.5)(active3)\n",
    "layer4 = Dense(128)(dropout3)\n",
    "active4 = ReLU()(layer4)\n",
    "dropout4 = Dropout(0.5)(active4)\n",
    "layer5 = Dense(8)(dropout4)\n",
    "active5 = Softmax()(layer5)\n",
    "output = active5\n",
    "model = Model(inputs=model_input, outputs=output)\n",
    "model.compile(loss='categorical_crossentropy', optimizer='adam', metrics=['accuracy'])\n",
    "model.summary()\n",
    "\n"
   ]
  },
  {
   "cell_type": "code",
   "execution_count": null,
   "metadata": {},
   "outputs": [],
   "source": [
    "from keras.callbacks import CSVLogger\n",
    "\n",
    "csv_logger = CSVLogger('logs/training_log.csv')\n",
    "# training setting\n",
    "epochs = 25\n",
    "batch_size = 64\n",
    "\n",
    "history = model.fit(x_train, y_train_one_hot, \n",
    "                    batch_size=batch_size, \n",
    "                    epochs=epochs, \n",
    "                    validation_data=(x_valid, y_valid_one_hot), \n",
    "                    callbacks=[csv_logger])\n"
   ]
  },
  {
   "cell_type": "code",
   "execution_count": null,
   "metadata": {},
   "outputs": [],
   "source": [
    "import matplotlib.pyplot as plt\n",
    "# 劃出 loss 和 accuracy 的圖\n",
    "plt.plot(history.history[\"loss\"], label=\"train_loss\")\n",
    "plt.plot(history.history[\"val_loss\"], label=\"valid_loss\")\n",
    "plt.legend()\n",
    "plt.show()\n",
    "\n",
    "plt.plot(history.history[\"accuracy\"], label=\"train_accuracy\")\n",
    "plt.plot(history.history[\"val_accuracy\"], label=\"valid_accuracy\")\n",
    "plt.legend()\n",
    "plt.show()\n",
    "\n",
    "last_val_accuracy = history.history['val_accuracy'][-1]"
   ]
  },
  {
   "cell_type": "code",
   "execution_count": null,
   "metadata": {},
   "outputs": [],
   "source": [
    "## predict\n",
    "pred_result = model.predict(x_test, batch_size=128)\n",
    "pred_result[:5]"
   ]
  },
  {
   "cell_type": "code",
   "execution_count": null,
   "metadata": {},
   "outputs": [],
   "source": [
    "pred_result = label(label_coder, pred_result)\n",
    "pred_result[:5]"
   ]
  },
  {
   "cell_type": "code",
   "execution_count": null,
   "metadata": {},
   "outputs": [],
   "source": [
    "# 合併 x_test 回 all_test_data\n",
    "all_test_data[\"emotion\"] = pred_result\n",
    "print(all_test_data.head())\n",
    "print(all_test_data.shape)\n",
    "\n",
    "# 读取 CSV 文件\n",
    "ans_csv = pd.read_csv('../data/twitter/sampleSubmission.csv')\n",
    "\n",
    "# 根據 tweet_id 和 id 進行合併\n",
    "merged_data = pd.merge(ans_csv, all_test_data[['tweet_id', 'emotion']], left_on='id', right_on='tweet_id', how='left')\n",
    "\n",
    "merged_data['emotion'] = merged_data['emotion_y']\n",
    "\n",
    "# 刪除重複的 tweet_id 列\n",
    "merged_data.drop(['tweet_id','emotion_x','emotion_y'], axis=1, inplace=True)\n",
    "\n",
    "\n",
    "# 保存更改后的数据到新的 CSV 文件\n",
    "merged_data.to_csv(f'{last_val_accuracy}.csv', index=False)\n",
    "\n",
    "# 打印完成信息\n",
    "print(\"\\n已保存 CSV 文件。\")"
   ]
  }
 ],
 "metadata": {
  "kernelspec": {
   "display_name": "Python 3 (ipykernel)",
   "language": "python",
   "name": "python3"
  },
  "language_info": {
   "codemirror_mode": {
    "name": "ipython",
    "version": 3
   },
   "file_extension": ".py",
   "mimetype": "text/x-python",
   "name": "python",
   "nbconvert_exporter": "python",
   "pygments_lexer": "ipython3",
   "version": "3.10.11"
  },
  "varInspector": {
   "cols": {
    "lenName": 16,
    "lenType": 16,
    "lenVar": 40
   },
   "kernels_config": {
    "python": {
     "delete_cmd_postfix": "",
     "delete_cmd_prefix": "del ",
     "library": "var_list.py",
     "varRefreshCmd": "print(var_dic_list())"
    },
    "r": {
     "delete_cmd_postfix": ") ",
     "delete_cmd_prefix": "rm(",
     "library": "var_list.r",
     "varRefreshCmd": "cat(var_dic_list()) "
    }
   },
   "types_to_exclude": [
    "module",
    "function",
    "builtin_function_or_method",
    "instance",
    "_Feature"
   ],
   "window_display": false
  }
 },
 "nbformat": 4,
 "nbformat_minor": 2
}
